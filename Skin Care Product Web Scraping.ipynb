{
 "cells": [
  {
   "cell_type": "markdown",
   "id": "bfd7b54d",
   "metadata": {},
   "source": [
    "### Project Summary:\n",
    " This project analyzes a collection of cosmetic or product data to identify relationships \n",
    " between products based on shared ingredients. The workflow involves:\n",
    " - Flattening nested product information from JSON format into a structured DataFrame.\n",
    " - Extracting barcode information (UPC/EAN) and consolidating into a single 'BARCODE' column.\n",
    " - Identifying and matching products that share similar ingredients.\n",
    " - Counting and listing shared ingredients and matching products.\n",
    " - Grouping and labeling products with common ingredients for better interpretability.\n",
    " - Visualizing the distribution of shared ingredients using an interactive histogram.\n",
    " This analysis helps reveal ingredient-level similarities across products, useful for \n",
    " clustering, recommendation systems, or product formulation insights.\n"
   ]
  },
  {
   "cell_type": "code",
   "execution_count": 62,
   "id": "c96be2b7",
   "metadata": {},
   "outputs": [],
   "source": [
    "#Import all necessary Libraries\n",
    "import requests\n",
    "from bs4 import BeautifulSoup\n",
    "import time\n",
    "import re\n",
    "import pandas as pd\n",
    "\n",
    "#visualization libraries\n",
    "import matplotlib.pylab as plt\n",
    "import seaborn as sns"
   ]
  },
  {
   "cell_type": "code",
   "execution_count": 63,
   "id": "c5bb9d75",
   "metadata": {},
   "outputs": [
    {
     "name": "stdout",
     "output_type": "stream",
     "text": [
      "CPU times: total: 30.8 s\n",
      "Wall time: 6min 32s\n"
     ]
    }
   ],
   "source": [
    "%%time\n",
    "\n",
    "# This are common ingredient use in skin care product\n",
    "ingredient_list = [\n",
    "    \"aqua\", \"glycerin\", \"hyaluronic acid\", \"niacinamide\", \"vitamin b3\",\"retinol\", \"vitamin a\", \n",
    "    \"ascorbic acid\", \"vitamin c\", \"tocopherol\", \"vitamin e\",\"salicylic acid\", \"glycolic acid\", \"lactic acid\",\n",
    "    \"ceramides\", \"peptides\", \"panthenol\", \"dimethicone\", \"petrolatum\", \"shea butter\", \"cocoa butter\",\n",
    "    \"aloe vera\", \"squalane\", \"zinc oxide\", \"titanium dioxide\", \"benzoyl peroxide\", \"urea\", \"allantoin\", \n",
    "    \"green tea extract\", \"chamomile extract\", \"licorice root extract\", \"tea tree oil\", \"jojoba oil\", \n",
    "    \"argan oil\", \"rosehip oil\", \"coconut oil\", \"avocado oil\", \"almond oil\", \"castor oil\", \"witch hazel\", \n",
    "    \"alcohol denat\", \"fragrance\", \"sodium hyaluronate\", \"beta-glucan\", \"centella asiatica extract\",\n",
    "    \"ferulic acid\", \"azelaic acid\", \"alpha arbutin\", \"kojic acid\", \"resveratrol\", \"bha\", \"aha\", \"pha\", \n",
    "    \"retinaldehyde\", \"retinyl palmitate\", \"tranexamic acid\", \"caffeine\", \"sulfur\", \"kaolin\", \"bentonite clay\",\n",
    "    \"charcoal\", \"manuka honey\",\"seaweed extract\", \"propolis\", \"snail mucin\", \"bakuchiol\", \"olive oil\", \"bees wax\"\n",
    "    ]\n",
    "\n",
    "headers = {'User-Agent': 'Mozilla/5.0'} # Helps bypass basic blocks\n",
    "response = requests.get(page_url, headers=headers)\n",
    "\n",
    "\n",
    "def get_product_links(page_url):\n",
    "    \"\"\"\n",
    "    This function extract all the product link from the provided site to scrap\n",
    "    And returns all the links set for better optimization\n",
    "    \"\"\"\n",
    "    soup = BeautifulSoup(response.text, 'html.parser')\n",
    "\n",
    "    product_links = set()\n",
    "    for a_tag in soup.find_all('a', href=True):\n",
    "        href = a_tag['href']\n",
    "        if \"/en-gb/product/\" in href:\n",
    "            if href.startswith(\"/\"):\n",
    "                href = \"https://snapklik.com\" + href\n",
    "            product_links.add(href)\n",
    "    return product_links\n",
    "\n",
    "def extract_product_details(product_url):\n",
    "    \"\"\"\n",
    "    This function extract all required information from each product link\n",
    "    and it return a dictionary of the product information that we are able to scrap\n",
    "    \"\"\"\n",
    "    time.sleep(5)  # This allow the webpage we are scrapping to load before the scrapping process begins\n",
    "    response = requests.get(product_url, headers=headers)\n",
    "    soup = BeautifulSoup(response.text, 'html.parser')\n",
    "    \n",
    "    # Extract image_url    \n",
    "    first_div = soup.find('div', class_='carousel-image')\n",
    "    product_image = first_div.find('img') if first_div else None     # Get the img inside it (only the first one)\n",
    "    image_url = product_image['src'] if product_image else \"N/A\"\n",
    "\n",
    "    \n",
    "    # Extract title\n",
    "    full_title = soup.find('h1')\n",
    "    full_title = full_title.text.strip() if full_title else \"N/A\"\n",
    "    title = re.split(r'[#,@|;\\.]', full_title)[0] # This split the title just to extract the main product name\n",
    "    Product_Line_Name = re.split(r'[#,@|;\\.]', full_title)[1:] # The reminded of the title that was splitted is the product line name\n",
    "\n",
    "    # Extract price of each product\n",
    "    price_tag = soup.find('span', class_='product-price large')\n",
    "    price = price_tag.text.strip() if price_tag else \"N/A\"\n",
    "\n",
    "    # Extract Description\n",
    "    product_detail = soup.find('li', class_='mat-subtitle-2 ng-star-inserted')\n",
    "    text = product_detail.get_text(strip=True)  # Removes leading/trailing whitespace\n",
    "    description = text.split('.')[0] #This split the product details in order to extract the first (first two) sentence(s)\n",
    "    if len(description) < 100:\n",
    "        description = description + text.split('.')[1]\n",
    "    \n",
    "    # Match ingredients from predefined list\n",
    "    page_text = soup.get_text(separator=' ').lower()\n",
    "    ingredients = [i for i in ingredient_list if i in page_text]\n",
    "\n",
    "    # Extract table data\n",
    "    table = soup.find('table')\n",
    "    table_data = {}\n",
    "    if table:\n",
    "        for row in table.find_all('tr'):\n",
    "            cells = row.find_all('td')\n",
    "            if len(cells) == 2:\n",
    "                key = cells[0].get_text(strip=True)\n",
    "                value = cells[1].get_text(strip=True)\n",
    "                table_data[key] = value\n",
    "\n",
    "    return {\n",
    "        \"url\": product_url,\n",
    "        \"title\": title,\n",
    "        \"image_url\": image_url,\n",
    "        \"price\": price,\n",
    "        \"description\": description,\n",
    "        \"ingredients\": ingredients,\n",
    "        \"Product_Line_Name\": Product_Line_Name,\n",
    "        \"table_data\": table_data\n",
    "    }\n",
    "\n",
    "# Scraping only products with ingredients from first 3 pages since the project is more\n",
    "#specific on product with the same \n",
    "base_url = \"https://snapklik.com/en-gb/g/c/skin-care?i={}&n=8&id=11060451\"\n",
    "all_products_with_ingredients = []\n",
    "\n",
    "for i in range(0, 3):  # Adjust range as needed\n",
    "    page_url = base_url.format(i * 16)\n",
    "    product_links = get_product_links(page_url)\n",
    "    for link in product_links:\n",
    "        product = extract_product_details(link)\n",
    "        if product[\"ingredients\"] != \"N/A\":\n",
    "            all_products_with_ingredients.append(product)\n",
    "\n"
   ]
  },
  {
   "cell_type": "markdown",
   "id": "06b1cb6d",
   "metadata": {},
   "source": [
    "### Summary:\n",
    " - This cell flattens a list of product dictionaries into a structured pandas DataFrame.\n",
    " - Extracts key product details (e.g., title, image, price, description, ingredients, etc.).\n",
    " - Merges additional metadata from the 'table_data' field if it exists.\n",
    " - Each product becomes a row in the final DataFrame.\n",
    " - The result is a clean and analysis-ready DataFrame for further processing or visualization.\n"
   ]
  },
  {
   "cell_type": "code",
   "execution_count": 72,
   "id": "119bea38",
   "metadata": {},
   "outputs": [
    {
     "data": {
      "text/html": [
       "<div>\n",
       "<style scoped>\n",
       "    .dataframe tbody tr th:only-of-type {\n",
       "        vertical-align: middle;\n",
       "    }\n",
       "\n",
       "    .dataframe tbody tr th {\n",
       "        vertical-align: top;\n",
       "    }\n",
       "\n",
       "    .dataframe thead th {\n",
       "        text-align: right;\n",
       "    }\n",
       "</style>\n",
       "<table border=\"1\" class=\"dataframe\">\n",
       "  <thead>\n",
       "    <tr style=\"text-align: right;\">\n",
       "      <th></th>\n",
       "      <th>Source_URL</th>\n",
       "      <th>Product_Name</th>\n",
       "      <th>Product_image</th>\n",
       "      <th>Price</th>\n",
       "      <th>Product_Description</th>\n",
       "      <th>Ingredients</th>\n",
       "      <th>Product_Line_Name:</th>\n",
       "      <th>Item weight</th>\n",
       "      <th>SKID</th>\n",
       "      <th>Manufacturer</th>\n",
       "      <th>Model</th>\n",
       "      <th>EAN</th>\n",
       "      <th>UPC</th>\n",
       "      <th>Part number</th>\n",
       "    </tr>\n",
       "  </thead>\n",
       "  <tbody>\n",
       "    <tr>\n",
       "      <th>0</th>\n",
       "      <td>https://snapklik.com/en-gb/product/cerave-pm-f...</td>\n",
       "      <td>CeraVe PM Facial Moisturizing Lotion</td>\n",
       "      <td>https://m.media-amazon.com/images/I/71jdcrAdwb...</td>\n",
       "      <td>$29</td>\n",
       "      <td>[ OVERNIGHT MOISTURIZER ] Cerave’s PM face cre...</td>\n",
       "      <td>[hyaluronic acid, niacinamide, ceramides, frag...</td>\n",
       "      <td>[ Night Cream]</td>\n",
       "      <td>0.1 kg</td>\n",
       "      <td>05W04PP7I6G15</td>\n",
       "      <td>CeraVe</td>\n",
       "      <td>VALEANT432229</td>\n",
       "      <td>3606000537453</td>\n",
       "      <td>NaN</td>\n",
       "      <td>NaN</td>\n",
       "    </tr>\n",
       "    <tr>\n",
       "      <th>1</th>\n",
       "      <td>https://snapklik.com/en-gb/product/la-roche-po...</td>\n",
       "      <td>La Roche-Posay Toleriane Hydrating Gentle Faci...</td>\n",
       "      <td>https://m.media-amazon.com/images/I/61E45LOdhW...</td>\n",
       "      <td>$29</td>\n",
       "      <td>Its gentle cream formula helps restore skin co...</td>\n",
       "      <td>[aqua, glycerin, niacinamide, tocopherol, cera...</td>\n",
       "      <td>[ Daily Face Wash]</td>\n",
       "      <td>0.2 kg</td>\n",
       "      <td>02P64PW7RHMY5</td>\n",
       "      <td>AmazonUs/LOSQH</td>\n",
       "      <td>B07WS6BTDK</td>\n",
       "      <td>3337875685900</td>\n",
       "      <td>NaN</td>\n",
       "      <td>NaN</td>\n",
       "    </tr>\n",
       "    <tr>\n",
       "      <th>2</th>\n",
       "      <td>https://snapklik.com/en-gb/product/basics-liqu...</td>\n",
       "      <td>Basics Liquid Hand Soap Refill</td>\n",
       "      <td>https://m.media-amazon.com/images/I/61p2PTBG7k...</td>\n",
       "      <td>$24</td>\n",
       "      <td>One 50 fluid ounce bottle of milk and honey li...</td>\n",
       "      <td>[]</td>\n",
       "      <td>[ Milk And Honey Scent,  Triclosan-free,  50 F...</td>\n",
       "      <td>NaN</td>\n",
       "      <td>09DP4PI7PZ8Z5</td>\n",
       "      <td>Amazon.com Services LLC.</td>\n",
       "      <td>NaN</td>\n",
       "      <td>NaN</td>\n",
       "      <td>195515025225</td>\n",
       "      <td>NaN</td>\n",
       "    </tr>\n",
       "    <tr>\n",
       "      <th>3</th>\n",
       "      <td>https://snapklik.com/en-gb/product/anua-heartl...</td>\n",
       "      <td>ANUA Heartleaf Quercetinol Pore Deep Cleansing...</td>\n",
       "      <td>https://m.media-amazon.com/images/I/51Kpw2r-pI...</td>\n",
       "      <td>$29</td>\n",
       "      <td>05% BHA : BHA effectively exfoliate dead skin ...</td>\n",
       "      <td>[glycerin, hyaluronic acid, bha]</td>\n",
       "      <td>[ Facial Cleanser,  For Double Cleansing,  BHA...</td>\n",
       "      <td>0.1 kg</td>\n",
       "      <td>0PP84PF7VDKD5</td>\n",
       "      <td>NaN</td>\n",
       "      <td>AN000089</td>\n",
       "      <td>8809640733642</td>\n",
       "      <td>NaN</td>\n",
       "      <td>NaN</td>\n",
       "    </tr>\n",
       "    <tr>\n",
       "      <th>4</th>\n",
       "      <td>https://snapklik.com/en-gb/product/hawaiian-tr...</td>\n",
       "      <td>Hawaiian Tropic After Sun Body Butter</td>\n",
       "      <td>https://m.media-amazon.com/images/I/71PfiAX-J+...</td>\n",
       "      <td>$24</td>\n",
       "      <td>THOUGHTFULLY made — Hawaiian Tropic after sun ...</td>\n",
       "      <td>[shea butter, coconut oil, avocado oil, fragra...</td>\n",
       "      <td>[]</td>\n",
       "      <td>0.3 kg</td>\n",
       "      <td>02W44P37CZWP5</td>\n",
       "      <td>Edgewell Personal Care</td>\n",
       "      <td>Hawaiian Tropic</td>\n",
       "      <td>NaN</td>\n",
       "      <td>075486091668</td>\n",
       "      <td>NaN</td>\n",
       "    </tr>\n",
       "  </tbody>\n",
       "</table>\n",
       "</div>"
      ],
      "text/plain": [
       "                                          Source_URL  \\\n",
       "0  https://snapklik.com/en-gb/product/cerave-pm-f...   \n",
       "1  https://snapklik.com/en-gb/product/la-roche-po...   \n",
       "2  https://snapklik.com/en-gb/product/basics-liqu...   \n",
       "3  https://snapklik.com/en-gb/product/anua-heartl...   \n",
       "4  https://snapklik.com/en-gb/product/hawaiian-tr...   \n",
       "\n",
       "                                        Product_Name  \\\n",
       "0               CeraVe PM Facial Moisturizing Lotion   \n",
       "1  La Roche-Posay Toleriane Hydrating Gentle Faci...   \n",
       "2                     Basics Liquid Hand Soap Refill   \n",
       "3  ANUA Heartleaf Quercetinol Pore Deep Cleansing...   \n",
       "4              Hawaiian Tropic After Sun Body Butter   \n",
       "\n",
       "                                       Product_image Price  \\\n",
       "0  https://m.media-amazon.com/images/I/71jdcrAdwb...   $29   \n",
       "1  https://m.media-amazon.com/images/I/61E45LOdhW...   $29   \n",
       "2  https://m.media-amazon.com/images/I/61p2PTBG7k...   $24   \n",
       "3  https://m.media-amazon.com/images/I/51Kpw2r-pI...   $29   \n",
       "4  https://m.media-amazon.com/images/I/71PfiAX-J+...   $24   \n",
       "\n",
       "                                 Product_Description  \\\n",
       "0  [ OVERNIGHT MOISTURIZER ] Cerave’s PM face cre...   \n",
       "1  Its gentle cream formula helps restore skin co...   \n",
       "2  One 50 fluid ounce bottle of milk and honey li...   \n",
       "3  05% BHA : BHA effectively exfoliate dead skin ...   \n",
       "4  THOUGHTFULLY made — Hawaiian Tropic after sun ...   \n",
       "\n",
       "                                         Ingredients  \\\n",
       "0  [hyaluronic acid, niacinamide, ceramides, frag...   \n",
       "1  [aqua, glycerin, niacinamide, tocopherol, cera...   \n",
       "2                                                 []   \n",
       "3                   [glycerin, hyaluronic acid, bha]   \n",
       "4  [shea butter, coconut oil, avocado oil, fragra...   \n",
       "\n",
       "                                  Product_Line_Name: Item weight  \\\n",
       "0                                     [ Night Cream]      0.1 kg   \n",
       "1                                 [ Daily Face Wash]      0.2 kg   \n",
       "2  [ Milk And Honey Scent,  Triclosan-free,  50 F...         NaN   \n",
       "3  [ Facial Cleanser,  For Double Cleansing,  BHA...      0.1 kg   \n",
       "4                                                 []      0.3 kg   \n",
       "\n",
       "            SKID              Manufacturer            Model            EAN  \\\n",
       "0  05W04PP7I6G15                    CeraVe    VALEANT432229  3606000537453   \n",
       "1  02P64PW7RHMY5            AmazonUs/LOSQH       B07WS6BTDK  3337875685900   \n",
       "2  09DP4PI7PZ8Z5  Amazon.com Services LLC.              NaN            NaN   \n",
       "3  0PP84PF7VDKD5                       NaN         AN000089  8809640733642   \n",
       "4  02W44P37CZWP5    Edgewell Personal Care  Hawaiian Tropic            NaN   \n",
       "\n",
       "            UPC Part number  \n",
       "0           NaN         NaN  \n",
       "1           NaN         NaN  \n",
       "2  195515025225         NaN  \n",
       "3           NaN         NaN  \n",
       "4  075486091668         NaN  "
      ]
     },
     "execution_count": 72,
     "metadata": {},
     "output_type": "execute_result"
    }
   ],
   "source": [
    "\n",
    "# Flatten the product dictionaries\n",
    "flat_products = []\n",
    "for prod in all_products_with_ingredients[:]:\n",
    "    flat_dict = {\n",
    "        \"Source_URL\": prod.get(\"url\", \"N/A\"),\n",
    "        \"Product_Name\": prod.get(\"title\", \"N/A\"),\n",
    "        \"Product_image\": prod.get(\"image_url\", \"N/A\"),\n",
    "        \"Price\": \"$\" + prod.get(\"price\", \"N/A\"),\n",
    "        \"Product_Description\": prod.get(\"description\", \"N/A\"),\n",
    "        \"Ingredients\": prod.get(\"ingredients\", \"N/A\"),\n",
    "        \"Product_Line_Name:\": prod[\"Product_Line_Name\"]\n",
    "\n",
    "    }\n",
    "    \n",
    "    # Merge table_data (expand keys like SKID, Manufacturer, etc.)\n",
    "    if \"table_data\" in prod and isinstance(prod[\"table_data\"], dict):\n",
    "        flat_dict.update(prod[\"table_data\"])\n",
    "    \n",
    "    flat_products.append(flat_dict)\n",
    "    \n",
    "\n",
    "\n",
    "# Convert to DataFrame\n",
    "df = pd.DataFrame(flat_products)\n",
    "\n",
    "df.head()"
   ]
  },
  {
   "cell_type": "markdown",
   "id": "07e30dcf",
   "metadata": {},
   "source": [
    "### Summary:\n",
    " This cell creates a unified 'BARCODE' column by prioritizing the 'UPC' value.\n",
    " - If 'UPC' is available, it is used.\n",
    " - If 'UPC' is missing but 'EAN' is available, 'EAN' is used instead.\n",
    " - If both are missing, the value is set to None.\n",
    " - The original 'UPC' and 'EAN' columns are then dropped from the DataFrame to avoid redundancy.\n"
   ]
  },
  {
   "cell_type": "code",
   "execution_count": 73,
   "id": "497df82b",
   "metadata": {},
   "outputs": [],
   "source": [
    "def barcode(row):\n",
    "    if pd.notna(row[\"UPC\"]):\n",
    "        return row[\"UPC\"]\n",
    "    elif pd.notna(row[\"EAN\"]):\n",
    "        return row[\"EAN\"]\n",
    "    else:\n",
    "        return None  \n",
    "\n",
    "df[\"BARCODE\"] = df.apply(barcode, axis=1)\n",
    "\n",
    "df = df.drop(['UPC', \"EAN\"], axis=1)"
   ]
  },
  {
   "cell_type": "markdown",
   "id": "6c325e21",
   "metadata": {},
   "source": [
    "df.columns"
   ]
  },
  {
   "cell_type": "code",
   "execution_count": 65,
   "id": "2ee62005",
   "metadata": {},
   "outputs": [
    {
     "data": {
      "text/plain": [
       "Index(['Source_URL', 'Product_Name', 'Product_image', 'Price',\n",
       "       'Product_Description', 'Ingredients', 'Product_Line_Name:',\n",
       "       'Item weight', 'SKID', 'Manufacturer', 'Model', 'EAN', 'UPC',\n",
       "       'Part number'],\n",
       "      dtype='object')"
      ]
     },
     "execution_count": 65,
     "metadata": {},
     "output_type": "execute_result"
    }
   ],
   "source": [
    "df.columns"
   ]
  },
  {
   "cell_type": "code",
   "execution_count": 74,
   "id": "9c3eb7f0",
   "metadata": {},
   "outputs": [],
   "source": [
    "df.rename(columns={\"Item weight\": \"Size/Volume\"}, inplace=True)\n",
    "df.rename(columns={\"Part number\": \"Product ID\"}, inplace=True)\n",
    "df.rename(columns={\"Manufacturer\": \"Brand Name \"}, inplace=True)\n",
    "\n"
   ]
  },
  {
   "cell_type": "code",
   "execution_count": 81,
   "id": "2fb219c5",
   "metadata": {},
   "outputs": [],
   "source": [
    "df.to_csv(\"Scraped product data.csv\")"
   ]
  },
  {
   "cell_type": "markdown",
   "id": "990722dc",
   "metadata": {},
   "source": [
    "### Summary:\n",
    "This cell defines a function to find products that share at least one ingredient with a given product.\n",
    "For each product in the DataFrame:\n",
    " - It compares the product's ingredient list with all other products.\n",
    " - It identifies products with overlapping ingredients (excluding self-comparison).\n",
    " - It collects:\n",
    "     - A comma-separated list of matching product names.\n",
    "     - A comma-separated list of shared ingredients.\n",
    "     - The number of matching products.\n",
    "     - The number of unique shared ingredients.\n",
    " The results are stored in four new columns:\n",
    " 'Products_With_Same_Ingredients', 'Shared_Ingredients', \n",
    " 'Num_Matching_Products', and 'Num_Unique_Shared_Ingredients'.\n"
   ]
  },
  {
   "cell_type": "code",
   "execution_count": 75,
   "id": "b8c14fc5",
   "metadata": {},
   "outputs": [],
   "source": [
    "def find_matches_and_ingredients(current_index, current_ingredients, df):\n",
    "    product_matches = []\n",
    "    shared_ingredients = []\n",
    "    current_set = set(current_ingredients)\n",
    "    \n",
    "    for idx, row in df.iterrows():\n",
    "        if idx == current_index:\n",
    "            continue\n",
    "        other_set = set(row[\"Ingredients\"])\n",
    "        intersection = current_set & other_set\n",
    "        if intersection:\n",
    "            product_matches.append(row[\"Product_Name\"])\n",
    "            shared_ingredients.extend(intersection)\n",
    "    \n",
    "    # Convert lists to comma-separated strings (avoid storing raw lists)\n",
    "    products_str = \", \".join(product_matches)\n",
    "    shared_ingredients_str = \", \".join(sorted(set(shared_ingredients)))\n",
    "\n",
    "    return (\n",
    "        products_str,                          # Comma-separated product names\n",
    "        shared_ingredients_str,                # Comma-separated shared ingredients\n",
    "        len(product_matches),                  # Number of matched products\n",
    "        len(set(shared_ingredients))           # Number of unique shared ingredients\n",
    "    )\n",
    "\n",
    "# Apply the function and assign to 4 columns\n",
    "df[[\n",
    "    \"Products_With_Same_Ingredients\", \n",
    "    \"Shared_Ingredients\", \n",
    "    \"Num_Matching_Products\", \n",
    "    \"Num_Unique_Shared_Ingredients\"\n",
    "]] = df.apply(\n",
    "    lambda row: pd.Series(find_matches_and_ingredients(row.name, row[\"Ingredients\"], df)),\n",
    "    axis=1\n",
    ")\n",
    "df.head()"
   ]
  },
  {
   "cell_type": "markdown",
   "id": "04fb9db3",
   "metadata": {},
   "source": [
    "### Summary:\n",
    " This cell sorts the DataFrame (`df`) in descending order based on the \n",
    " number of unique shared ingredients (`Num_Unique_Shared_Ingredients`).\n",
    " - The result is stored in a new DataFrame called `df_sorted`, with the index reset for clarity.\n",
    " - This helps prioritize or rank products by the richness of shared ingredient connections.\n"
   ]
  },
  {
   "cell_type": "code",
   "execution_count": 77,
   "id": "d8930442",
   "metadata": {},
   "outputs": [
    {
     "data": {
      "text/html": [
       "<div>\n",
       "<style scoped>\n",
       "    .dataframe tbody tr th:only-of-type {\n",
       "        vertical-align: middle;\n",
       "    }\n",
       "\n",
       "    .dataframe tbody tr th {\n",
       "        vertical-align: top;\n",
       "    }\n",
       "\n",
       "    .dataframe thead th {\n",
       "        text-align: right;\n",
       "    }\n",
       "</style>\n",
       "<table border=\"1\" class=\"dataframe\">\n",
       "  <thead>\n",
       "    <tr style=\"text-align: right;\">\n",
       "      <th></th>\n",
       "      <th>Source_URL</th>\n",
       "      <th>Product_Name</th>\n",
       "      <th>Product_image</th>\n",
       "      <th>Price</th>\n",
       "      <th>Product_Description</th>\n",
       "      <th>Ingredients</th>\n",
       "      <th>Product_Line_Name:</th>\n",
       "      <th>Size/Volume</th>\n",
       "      <th>SKID</th>\n",
       "      <th>Brand Name</th>\n",
       "      <th>Model</th>\n",
       "      <th>Product ID</th>\n",
       "      <th>BARCODE</th>\n",
       "      <th>Products_With_Same_Ingredients</th>\n",
       "      <th>Shared_Ingredients</th>\n",
       "      <th>Num_Matching_Products</th>\n",
       "      <th>Num_Unique_Shared_Ingredients</th>\n",
       "    </tr>\n",
       "  </thead>\n",
       "  <tbody>\n",
       "    <tr>\n",
       "      <th>0</th>\n",
       "      <td>https://snapklik.com/en-gb/product/la-roche-po...</td>\n",
       "      <td>La Roche-Posay Toleriane Hydrating Gentle Faci...</td>\n",
       "      <td>https://m.media-amazon.com/images/I/61E45LOdhW...</td>\n",
       "      <td>$29</td>\n",
       "      <td>Its gentle cream formula helps restore skin co...</td>\n",
       "      <td>[aqua, glycerin, niacinamide, tocopherol, cera...</td>\n",
       "      <td>[ Daily Face Wash]</td>\n",
       "      <td>0.2 kg</td>\n",
       "      <td>02P64PW7RHMY5</td>\n",
       "      <td>AmazonUs/LOSQH</td>\n",
       "      <td>B07WS6BTDK</td>\n",
       "      <td>NaN</td>\n",
       "      <td>3337875685900</td>\n",
       "      <td>CeraVe PM Facial Moisturizing Lotion, La Roche...</td>\n",
       "      <td>aqua, ceramides, fragrance, glycerin, niacinam...</td>\n",
       "      <td>26</td>\n",
       "      <td>7</td>\n",
       "    </tr>\n",
       "    <tr>\n",
       "      <th>1</th>\n",
       "      <td>https://snapklik.com/en-gb/product/la-roche-po...</td>\n",
       "      <td>La Roche-Posay Toleriane Hydrating Gentle Faci...</td>\n",
       "      <td>https://m.media-amazon.com/images/I/61E45LOdhW...</td>\n",
       "      <td>$29</td>\n",
       "      <td>Its gentle cream formula helps restore skin co...</td>\n",
       "      <td>[aqua, glycerin, niacinamide, tocopherol, cera...</td>\n",
       "      <td>[ Daily Face Wash]</td>\n",
       "      <td>0.2 kg</td>\n",
       "      <td>02P64PW7RHMY5</td>\n",
       "      <td>AmazonUs/LOSQH</td>\n",
       "      <td>B07WS6BTDK</td>\n",
       "      <td>NaN</td>\n",
       "      <td>3337875685900</td>\n",
       "      <td>CeraVe PM Facial Moisturizing Lotion, ANUA Hea...</td>\n",
       "      <td>aqua, ceramides, fragrance, glycerin, niacinam...</td>\n",
       "      <td>26</td>\n",
       "      <td>7</td>\n",
       "    </tr>\n",
       "    <tr>\n",
       "      <th>2</th>\n",
       "      <td>https://snapklik.com/en-gb/product/la-roche-po...</td>\n",
       "      <td>La Roche-Posay Toleriane Hydrating Gentle Faci...</td>\n",
       "      <td>https://m.media-amazon.com/images/I/61E45LOdhW...</td>\n",
       "      <td>$29</td>\n",
       "      <td>Formulated with La Roche-Posay prebiotic therm...</td>\n",
       "      <td>[aqua, glycerin, niacinamide, tocopherol, cera...</td>\n",
       "      <td>[ Daily Face Wash]</td>\n",
       "      <td>0.2 kg</td>\n",
       "      <td>02P64PW7RHMY5</td>\n",
       "      <td>AmazonUs/LOSQH</td>\n",
       "      <td>B07WS6BTDK</td>\n",
       "      <td>NaN</td>\n",
       "      <td>3337875685900</td>\n",
       "      <td>CeraVe PM Facial Moisturizing Lotion, La Roche...</td>\n",
       "      <td>aqua, ceramides, fragrance, glycerin, niacinam...</td>\n",
       "      <td>26</td>\n",
       "      <td>7</td>\n",
       "    </tr>\n",
       "    <tr>\n",
       "      <th>3</th>\n",
       "      <td>https://snapklik.com/en-gb/product/cerave-skin...</td>\n",
       "      <td>Skin Renewing Night Cream</td>\n",
       "      <td>https://m.media-amazon.com/images/I/71r7bLsvaV...</td>\n",
       "      <td>$34</td>\n",
       "      <td>[ PEPTIDE COMPLEX ] Help reduced the look of f...</td>\n",
       "      <td>[hyaluronic acid, niacinamide, ceramides, pept...</td>\n",
       "      <td>[ Niacinamide,  Peptide Complex,  And Hyaluron...</td>\n",
       "      <td>0.3 kg</td>\n",
       "      <td>05IJ4PB7FKHH5</td>\n",
       "      <td>CeraVe</td>\n",
       "      <td>B00SNPCSUY</td>\n",
       "      <td>NaN</td>\n",
       "      <td>3606000537606</td>\n",
       "      <td>CeraVe PM Facial Moisturizing Lotion, La Roche...</td>\n",
       "      <td>ceramides, fragrance, hyaluronic acid, niacina...</td>\n",
       "      <td>23</td>\n",
       "      <td>5</td>\n",
       "    </tr>\n",
       "    <tr>\n",
       "      <th>4</th>\n",
       "      <td>https://snapklik.com/en-gb/product/cerave-skin...</td>\n",
       "      <td>Skin Renewing Night Cream</td>\n",
       "      <td>https://m.media-amazon.com/images/I/71r7bLsvaV...</td>\n",
       "      <td>$34</td>\n",
       "      <td>[ PEPTIDE COMPLEX ] Help reduced the look of f...</td>\n",
       "      <td>[hyaluronic acid, niacinamide, ceramides, pept...</td>\n",
       "      <td>[ Niacinamide,  Peptide Complex,  And Hyaluron...</td>\n",
       "      <td>0.3 kg</td>\n",
       "      <td>05IJ4PB7FKHH5</td>\n",
       "      <td>CeraVe</td>\n",
       "      <td>B00SNPCSUY</td>\n",
       "      <td>NaN</td>\n",
       "      <td>3606000537606</td>\n",
       "      <td>CeraVe PM Facial Moisturizing Lotion, La Roche...</td>\n",
       "      <td>ceramides, fragrance, hyaluronic acid, niacina...</td>\n",
       "      <td>23</td>\n",
       "      <td>5</td>\n",
       "    </tr>\n",
       "    <tr>\n",
       "      <th>5</th>\n",
       "      <td>https://snapklik.com/en-gb/product/cerave-skin...</td>\n",
       "      <td>Skin Renewing Night Cream</td>\n",
       "      <td>https://m.media-amazon.com/images/I/71r7bLsvaV...</td>\n",
       "      <td>$34</td>\n",
       "      <td>[ PEPTIDE COMPLEX ] Help reduced the look of f...</td>\n",
       "      <td>[hyaluronic acid, niacinamide, ceramides, pept...</td>\n",
       "      <td>[ Niacinamide,  Peptide Complex,  And Hyaluron...</td>\n",
       "      <td>0.3 kg</td>\n",
       "      <td>05IJ4PB7FKHH5</td>\n",
       "      <td>CeraVe</td>\n",
       "      <td>B00SNPCSUY</td>\n",
       "      <td>NaN</td>\n",
       "      <td>3606000537606</td>\n",
       "      <td>CeraVe PM Facial Moisturizing Lotion, La Roche...</td>\n",
       "      <td>ceramides, fragrance, hyaluronic acid, niacina...</td>\n",
       "      <td>23</td>\n",
       "      <td>5</td>\n",
       "    </tr>\n",
       "    <tr>\n",
       "      <th>6</th>\n",
       "      <td>https://snapklik.com/en-gb/product/cerave-pm-f...</td>\n",
       "      <td>CeraVe PM Facial Moisturizing Lotion</td>\n",
       "      <td>https://m.media-amazon.com/images/I/71jdcrAdwb...</td>\n",
       "      <td>$29</td>\n",
       "      <td>[ OVERNIGHT MOISTURIZER ] Cerave’s PM face cre...</td>\n",
       "      <td>[hyaluronic acid, niacinamide, ceramides, frag...</td>\n",
       "      <td>[ Night Cream]</td>\n",
       "      <td>0.1 kg</td>\n",
       "      <td>05W04PP7I6G15</td>\n",
       "      <td>CeraVe</td>\n",
       "      <td>VALEANT432229</td>\n",
       "      <td>NaN</td>\n",
       "      <td>3606000537453</td>\n",
       "      <td>CeraVe PM Facial Moisturizing Lotion, La Roche...</td>\n",
       "      <td>ceramides, fragrance, hyaluronic acid, niacina...</td>\n",
       "      <td>23</td>\n",
       "      <td>4</td>\n",
       "    </tr>\n",
       "    <tr>\n",
       "      <th>7</th>\n",
       "      <td>https://snapklik.com/en-gb/product/hawaiian-tr...</td>\n",
       "      <td>Hawaiian Tropic After Sun Body Butter</td>\n",
       "      <td>https://m.media-amazon.com/images/I/71PfiAX-J+...</td>\n",
       "      <td>$24</td>\n",
       "      <td>THOUGHTFULLY made — Hawaiian Tropic after sun ...</td>\n",
       "      <td>[shea butter, coconut oil, avocado oil, fragra...</td>\n",
       "      <td>[]</td>\n",
       "      <td>0.3 kg</td>\n",
       "      <td>02W44P37CZWP5</td>\n",
       "      <td>Edgewell Personal Care</td>\n",
       "      <td>Hawaiian Tropic</td>\n",
       "      <td>NaN</td>\n",
       "      <td>075486091668</td>\n",
       "      <td>CeraVe PM Facial Moisturizing Lotion, La Roche...</td>\n",
       "      <td>avocado oil, coconut oil, fragrance, shea butter</td>\n",
       "      <td>17</td>\n",
       "      <td>4</td>\n",
       "    </tr>\n",
       "    <tr>\n",
       "      <th>8</th>\n",
       "      <td>https://snapklik.com/en-gb/product/cerave-pm-f...</td>\n",
       "      <td>CeraVe PM Facial Moisturizing Lotion</td>\n",
       "      <td>https://m.media-amazon.com/images/I/71jdcrAdwb...</td>\n",
       "      <td>$29</td>\n",
       "      <td>[ OVERNIGHT MOISTURIZER ] Cerave’s PM face cre...</td>\n",
       "      <td>[hyaluronic acid, niacinamide, ceramides, frag...</td>\n",
       "      <td>[ Night Cream]</td>\n",
       "      <td>0.1 kg</td>\n",
       "      <td>05W04PP7I6G15</td>\n",
       "      <td>CeraVe</td>\n",
       "      <td>VALEANT432229</td>\n",
       "      <td>NaN</td>\n",
       "      <td>3606000537453</td>\n",
       "      <td>CeraVe PM Facial Moisturizing Lotion, La Roche...</td>\n",
       "      <td>ceramides, fragrance, hyaluronic acid, niacina...</td>\n",
       "      <td>23</td>\n",
       "      <td>4</td>\n",
       "    </tr>\n",
       "    <tr>\n",
       "      <th>9</th>\n",
       "      <td>https://snapklik.com/en-gb/product/hawaiian-tr...</td>\n",
       "      <td>Hawaiian Tropic After Sun Body Butter</td>\n",
       "      <td>https://m.media-amazon.com/images/I/71PfiAX-J+...</td>\n",
       "      <td>$24</td>\n",
       "      <td>ULTRA-RICH MOISTURIZERS leave skin feeling sil...</td>\n",
       "      <td>[shea butter, coconut oil, avocado oil, fragra...</td>\n",
       "      <td>[]</td>\n",
       "      <td>0.3 kg</td>\n",
       "      <td>02W44P37CZWP5</td>\n",
       "      <td>Edgewell Personal Care</td>\n",
       "      <td>Hawaiian Tropic</td>\n",
       "      <td>NaN</td>\n",
       "      <td>075486091668</td>\n",
       "      <td>CeraVe PM Facial Moisturizing Lotion, La Roche...</td>\n",
       "      <td>avocado oil, coconut oil, fragrance, shea butter</td>\n",
       "      <td>17</td>\n",
       "      <td>4</td>\n",
       "    </tr>\n",
       "    <tr>\n",
       "      <th>10</th>\n",
       "      <td>https://snapklik.com/en-gb/product/cerave-pm-f...</td>\n",
       "      <td>CeraVe PM Facial Moisturizing Lotion</td>\n",
       "      <td>https://m.media-amazon.com/images/I/71jdcrAdwb...</td>\n",
       "      <td>$29</td>\n",
       "      <td>[ OVERNIGHT MOISTURIZER ] Cerave’s PM face cre...</td>\n",
       "      <td>[hyaluronic acid, niacinamide, ceramides, frag...</td>\n",
       "      <td>[ Night Cream]</td>\n",
       "      <td>0.1 kg</td>\n",
       "      <td>05W04PP7I6G15</td>\n",
       "      <td>CeraVe</td>\n",
       "      <td>VALEANT432229</td>\n",
       "      <td>NaN</td>\n",
       "      <td>3606000537453</td>\n",
       "      <td>La Roche-Posay Toleriane Hydrating Gentle Faci...</td>\n",
       "      <td>ceramides, fragrance, hyaluronic acid, niacina...</td>\n",
       "      <td>23</td>\n",
       "      <td>4</td>\n",
       "    </tr>\n",
       "    <tr>\n",
       "      <th>11</th>\n",
       "      <td>https://snapklik.com/en-gb/product/hawaiian-tr...</td>\n",
       "      <td>Hawaiian Tropic After Sun Body Butter</td>\n",
       "      <td>https://m.media-amazon.com/images/I/71PfiAX-J+...</td>\n",
       "      <td>$24</td>\n",
       "      <td>THOUGHTFULLY made — Hawaiian Tropic after sun ...</td>\n",
       "      <td>[shea butter, coconut oil, avocado oil, fragra...</td>\n",
       "      <td>[]</td>\n",
       "      <td>0.3 kg</td>\n",
       "      <td>02W44P37CZWP5</td>\n",
       "      <td>Edgewell Personal Care</td>\n",
       "      <td>Hawaiian Tropic</td>\n",
       "      <td>NaN</td>\n",
       "      <td>075486091668</td>\n",
       "      <td>CeraVe PM Facial Moisturizing Lotion, La Roche...</td>\n",
       "      <td>avocado oil, coconut oil, fragrance, shea butter</td>\n",
       "      <td>17</td>\n",
       "      <td>4</td>\n",
       "    </tr>\n",
       "    <tr>\n",
       "      <th>12</th>\n",
       "      <td>https://snapklik.com/en-gb/product/aquaphor-he...</td>\n",
       "      <td>Aquaphor Healing Ointment Advanced Therapy Ski...</td>\n",
       "      <td>https://m.media-amazon.com/images/I/61vI44BO7u...</td>\n",
       "      <td>$29</td>\n",
       "      <td>FOR DRY, COMPROMISED SKIN: This Aquaphor Heali...</td>\n",
       "      <td>[aqua, glycerin, petrolatum]</td>\n",
       "      <td>[]</td>\n",
       "      <td>0.2 kg</td>\n",
       "      <td>07JA4PP7B2U55</td>\n",
       "      <td>Aquaphor</td>\n",
       "      <td>NaN</td>\n",
       "      <td>72140019457</td>\n",
       "      <td>072140019457</td>\n",
       "      <td>La Roche-Posay Toleriane Hydrating Gentle Faci...</td>\n",
       "      <td>aqua, glycerin, petrolatum</td>\n",
       "      <td>8</td>\n",
       "      <td>3</td>\n",
       "    </tr>\n",
       "    <tr>\n",
       "      <th>13</th>\n",
       "      <td>https://snapklik.com/en-gb/product/aquaphor-he...</td>\n",
       "      <td>Aquaphor Healing Ointment Advanced Therapy Ski...</td>\n",
       "      <td>https://m.media-amazon.com/images/I/61vI44BO7u...</td>\n",
       "      <td>$29</td>\n",
       "      <td>FOR DRY, COMPROMISED SKIN: This Aquaphor Heali...</td>\n",
       "      <td>[aqua, glycerin, petrolatum]</td>\n",
       "      <td>[]</td>\n",
       "      <td>0.2 kg</td>\n",
       "      <td>07JA4PP7B2U55</td>\n",
       "      <td>Aquaphor</td>\n",
       "      <td>NaN</td>\n",
       "      <td>72140019457</td>\n",
       "      <td>072140019457</td>\n",
       "      <td>La Roche-Posay Toleriane Hydrating Gentle Faci...</td>\n",
       "      <td>aqua, glycerin, petrolatum</td>\n",
       "      <td>8</td>\n",
       "      <td>3</td>\n",
       "    </tr>\n",
       "    <tr>\n",
       "      <th>14</th>\n",
       "      <td>https://snapklik.com/en-gb/product/anua-heartl...</td>\n",
       "      <td>ANUA Heartleaf Quercetinol Pore Deep Cleansing...</td>\n",
       "      <td>https://m.media-amazon.com/images/I/51Kpw2r-pI...</td>\n",
       "      <td>$29</td>\n",
       "      <td>GENTLE EXFOLIATION : Contains 3,000ppm Heartle...</td>\n",
       "      <td>[glycerin, hyaluronic acid, bha]</td>\n",
       "      <td>[ Facial Cleanser,  For Double Cleansing,  BHA...</td>\n",
       "      <td>0.1 kg</td>\n",
       "      <td>0PP84PF7VDKD5</td>\n",
       "      <td>NaN</td>\n",
       "      <td>AN000089</td>\n",
       "      <td>NaN</td>\n",
       "      <td>8809640733642</td>\n",
       "      <td>CeraVe PM Facial Moisturizing Lotion, La Roche...</td>\n",
       "      <td>bha, glycerin, hyaluronic acid</td>\n",
       "      <td>14</td>\n",
       "      <td>3</td>\n",
       "    </tr>\n",
       "    <tr>\n",
       "      <th>15</th>\n",
       "      <td>https://snapklik.com/en-gb/product/anua-heartl...</td>\n",
       "      <td>ANUA Heartleaf Quercetinol Pore Deep Cleansing...</td>\n",
       "      <td>https://m.media-amazon.com/images/I/51Kpw2r-pI...</td>\n",
       "      <td>$29</td>\n",
       "      <td>05% BHA : BHA effectively exfoliate dead skin ...</td>\n",
       "      <td>[glycerin, hyaluronic acid, bha]</td>\n",
       "      <td>[ Facial Cleanser,  For Double Cleansing,  BHA...</td>\n",
       "      <td>0.1 kg</td>\n",
       "      <td>0PP84PF7VDKD5</td>\n",
       "      <td>NaN</td>\n",
       "      <td>AN000089</td>\n",
       "      <td>NaN</td>\n",
       "      <td>8809640733642</td>\n",
       "      <td>CeraVe PM Facial Moisturizing Lotion, La Roche...</td>\n",
       "      <td>bha, glycerin, hyaluronic acid</td>\n",
       "      <td>14</td>\n",
       "      <td>3</td>\n",
       "    </tr>\n",
       "    <tr>\n",
       "      <th>16</th>\n",
       "      <td>https://snapklik.com/en-gb/product/anua-heartl...</td>\n",
       "      <td>ANUA Heartleaf Quercetinol Pore Deep Cleansing...</td>\n",
       "      <td>https://m.media-amazon.com/images/I/51Kpw2r-pI...</td>\n",
       "      <td>$29</td>\n",
       "      <td>GENTLE EXFOLIATION : Contains 3,000ppm Heartle...</td>\n",
       "      <td>[glycerin, hyaluronic acid, bha]</td>\n",
       "      <td>[ Facial Cleanser,  For Double Cleansing,  BHA...</td>\n",
       "      <td>0.1 kg</td>\n",
       "      <td>0PP84PF7VDKD5</td>\n",
       "      <td>NaN</td>\n",
       "      <td>AN000089</td>\n",
       "      <td>NaN</td>\n",
       "      <td>8809640733642</td>\n",
       "      <td>CeraVe PM Facial Moisturizing Lotion, La Roche...</td>\n",
       "      <td>bha, glycerin, hyaluronic acid</td>\n",
       "      <td>14</td>\n",
       "      <td>3</td>\n",
       "    </tr>\n",
       "    <tr>\n",
       "      <th>17</th>\n",
       "      <td>https://snapklik.com/en-gb/product/aquaphor-he...</td>\n",
       "      <td>Aquaphor Healing Ointment Advanced Therapy Ski...</td>\n",
       "      <td>https://m.media-amazon.com/images/I/61vI44BO7u...</td>\n",
       "      <td>$29</td>\n",
       "      <td>FOR DRY, COMPROMISED SKIN: This Aquaphor Heali...</td>\n",
       "      <td>[aqua, glycerin, petrolatum]</td>\n",
       "      <td>[]</td>\n",
       "      <td>0.2 kg</td>\n",
       "      <td>07JA4PP7B2U55</td>\n",
       "      <td>Aquaphor</td>\n",
       "      <td>NaN</td>\n",
       "      <td>72140019457</td>\n",
       "      <td>072140019457</td>\n",
       "      <td>La Roche-Posay Toleriane Hydrating Gentle Faci...</td>\n",
       "      <td>aqua, glycerin, petrolatum</td>\n",
       "      <td>8</td>\n",
       "      <td>3</td>\n",
       "    </tr>\n",
       "    <tr>\n",
       "      <th>18</th>\n",
       "      <td>https://snapklik.com/en-gb/product/dove-bar-so...</td>\n",
       "      <td>Dove Bar Soap For Sensitive Skin 3</td>\n",
       "      <td>https://m.media-amazon.com/images/I/61tas--Ax5...</td>\n",
       "      <td>$19</td>\n",
       "      <td>Product of Dove</td>\n",
       "      <td>[fragrance]</td>\n",
       "      <td>[17 Oz]</td>\n",
       "      <td>0.2 kg</td>\n",
       "      <td>07904P67GHGP5</td>\n",
       "      <td>Unilever</td>\n",
       "      <td>PPAX1299915</td>\n",
       "      <td>NaN</td>\n",
       "      <td>011111036444</td>\n",
       "      <td>CeraVe PM Facial Moisturizing Lotion, La Roche...</td>\n",
       "      <td>fragrance</td>\n",
       "      <td>17</td>\n",
       "      <td>1</td>\n",
       "    </tr>\n",
       "    <tr>\n",
       "      <th>19</th>\n",
       "      <td>https://snapklik.com/en-gb/product/dove-bar-so...</td>\n",
       "      <td>Dove Bar Soap For Sensitive Skin 3</td>\n",
       "      <td>https://m.media-amazon.com/images/I/61tas--Ax5...</td>\n",
       "      <td>$19</td>\n",
       "      <td>Product of Dove</td>\n",
       "      <td>[fragrance]</td>\n",
       "      <td>[17 Oz]</td>\n",
       "      <td>0.2 kg</td>\n",
       "      <td>07904P67GHGP5</td>\n",
       "      <td>Unilever</td>\n",
       "      <td>PPAX1299915</td>\n",
       "      <td>NaN</td>\n",
       "      <td>011111036444</td>\n",
       "      <td>CeraVe PM Facial Moisturizing Lotion, La Roche...</td>\n",
       "      <td>fragrance</td>\n",
       "      <td>17</td>\n",
       "      <td>1</td>\n",
       "    </tr>\n",
       "    <tr>\n",
       "      <th>20</th>\n",
       "      <td>https://snapklik.com/en-gb/product/vanicream-g...</td>\n",
       "      <td>Gentle Facial Cleaner</td>\n",
       "      <td>https://m.media-amazon.com/images/I/611m0CHMmQ...</td>\n",
       "      <td>$19</td>\n",
       "      <td>Dermatologist-Tested: Awarded the Seal of Acce...</td>\n",
       "      <td>[fragrance]</td>\n",
       "      <td>[ 2, 5 Fl Oz,  Formulated Without Common Irrit...</td>\n",
       "      <td>0.1 kg</td>\n",
       "      <td>09IV4PK7R3FF5</td>\n",
       "      <td>Vanicream</td>\n",
       "      <td>322-02</td>\n",
       "      <td>NaN</td>\n",
       "      <td>345334322023</td>\n",
       "      <td>CeraVe PM Facial Moisturizing Lotion, La Roche...</td>\n",
       "      <td>fragrance</td>\n",
       "      <td>17</td>\n",
       "      <td>1</td>\n",
       "    </tr>\n",
       "    <tr>\n",
       "      <th>21</th>\n",
       "      <td>https://snapklik.com/en-gb/product/cosrx-glass...</td>\n",
       "      <td>Glass Skin Starter Set</td>\n",
       "      <td>https://m.media-amazon.com/images/I/71nUiC925z...</td>\n",
       "      <td>$54</td>\n",
       "      <td>Caution: The set includes a mini sample of The...</td>\n",
       "      <td>[retinol]</td>\n",
       "      <td>[ Advanced Snail 96% Mucin Power Essence &amp; Ret...</td>\n",
       "      <td>0.2 kg</td>\n",
       "      <td>0I684P37OF075</td>\n",
       "      <td>COSRX</td>\n",
       "      <td>1</td>\n",
       "      <td>NaN</td>\n",
       "      <td>8809598455689</td>\n",
       "      <td>Glass Skin Starter Set, Glass Skin Starter Set</td>\n",
       "      <td>retinol</td>\n",
       "      <td>2</td>\n",
       "      <td>1</td>\n",
       "    </tr>\n",
       "    <tr>\n",
       "      <th>22</th>\n",
       "      <td>https://snapklik.com/en-gb/product/sun-bum-ori...</td>\n",
       "      <td>Sun Bum Original SPF 50 Sunscreen Body Spray -...</td>\n",
       "      <td>https://m.media-amazon.com/images/I/71fZDitOEY...</td>\n",
       "      <td>$54</td>\n",
       "      <td>MOISTURIZING SUN PROTECTION Dermatologist and ...</td>\n",
       "      <td>[vitamin e]</td>\n",
       "      <td>[]</td>\n",
       "      <td>0.2 kg</td>\n",
       "      <td>05SL4PM7FOW45</td>\n",
       "      <td>Sun Bum</td>\n",
       "      <td>20-42050</td>\n",
       "      <td>NaN</td>\n",
       "      <td>871760001978</td>\n",
       "      <td>Sun Bum Original SPF 50 Sunscreen Body Spray -...</td>\n",
       "      <td>vitamin e</td>\n",
       "      <td>2</td>\n",
       "      <td>1</td>\n",
       "    </tr>\n",
       "    <tr>\n",
       "      <th>23</th>\n",
       "      <td>https://snapklik.com/en-gb/product/grace-and-s...</td>\n",
       "      <td>Grace &amp; Stella Award Winning Under Eye Mask Re...</td>\n",
       "      <td>https://m.media-amazon.com/images/I/71PhKZmsPG...</td>\n",
       "      <td>$49</td>\n",
       "      <td>Loved by Millions - Used by Jessica Alba, Leon...</td>\n",
       "      <td>[niacinamide]</td>\n",
       "      <td>[ Puffy Eyes,  Undereye Bags,  Wrinkles,  Gel ...</td>\n",
       "      <td>NaN</td>\n",
       "      <td>0P4Y4P87RA7K5</td>\n",
       "      <td>Grace &amp; Stella</td>\n",
       "      <td>Blue (48 Pairs)</td>\n",
       "      <td>GS-MASK-UNDEREYE-BLU-48PR</td>\n",
       "      <td>860010427330</td>\n",
       "      <td>CeraVe PM Facial Moisturizing Lotion, La Roche...</td>\n",
       "      <td>niacinamide</td>\n",
       "      <td>11</td>\n",
       "      <td>1</td>\n",
       "    </tr>\n",
       "    <tr>\n",
       "      <th>24</th>\n",
       "      <td>https://snapklik.com/en-gb/product/grace-and-s...</td>\n",
       "      <td>Grace &amp; Stella Award Winning Under Eye Mask Re...</td>\n",
       "      <td>https://m.media-amazon.com/images/I/71PhKZmsPG...</td>\n",
       "      <td>$49</td>\n",
       "      <td>Soothing formula for refreshed-looking eyes - ...</td>\n",
       "      <td>[niacinamide]</td>\n",
       "      <td>[ Puffy Eyes,  Undereye Bags,  Wrinkles,  Gel ...</td>\n",
       "      <td>NaN</td>\n",
       "      <td>0P4Y4P87RA7K5</td>\n",
       "      <td>Grace &amp; Stella</td>\n",
       "      <td>Blue (48 Pairs)</td>\n",
       "      <td>GS-MASK-UNDEREYE-BLU-48PR</td>\n",
       "      <td>860010427330</td>\n",
       "      <td>CeraVe PM Facial Moisturizing Lotion, La Roche...</td>\n",
       "      <td>niacinamide</td>\n",
       "      <td>11</td>\n",
       "      <td>1</td>\n",
       "    </tr>\n",
       "    <tr>\n",
       "      <th>25</th>\n",
       "      <td>https://snapklik.com/en-gb/product/dove-bar-so...</td>\n",
       "      <td>Dove Bar Soap For Sensitive Skin 3</td>\n",
       "      <td>https://m.media-amazon.com/images/I/61tas--Ax5...</td>\n",
       "      <td>$19</td>\n",
       "      <td>Regular soap can be rough on dry skin; Dove de...</td>\n",
       "      <td>[fragrance]</td>\n",
       "      <td>[17 Oz]</td>\n",
       "      <td>0.2 kg</td>\n",
       "      <td>07904P67GHGP5</td>\n",
       "      <td>Unilever</td>\n",
       "      <td>PPAX1299915</td>\n",
       "      <td>NaN</td>\n",
       "      <td>011111036444</td>\n",
       "      <td>CeraVe PM Facial Moisturizing Lotion, La Roche...</td>\n",
       "      <td>fragrance</td>\n",
       "      <td>17</td>\n",
       "      <td>1</td>\n",
       "    </tr>\n",
       "    <tr>\n",
       "      <th>26</th>\n",
       "      <td>https://snapklik.com/en-gb/product/vanicream-g...</td>\n",
       "      <td>Gentle Facial Cleaner</td>\n",
       "      <td>https://m.media-amazon.com/images/I/611m0CHMmQ...</td>\n",
       "      <td>$19</td>\n",
       "      <td>Dermatologist-Tested: Awarded the Seal of Acce...</td>\n",
       "      <td>[fragrance]</td>\n",
       "      <td>[ 2, 5 Fl Oz,  Formulated Without Common Irrit...</td>\n",
       "      <td>0.1 kg</td>\n",
       "      <td>09IV4PK7R3FF5</td>\n",
       "      <td>Vanicream</td>\n",
       "      <td>322-02</td>\n",
       "      <td>NaN</td>\n",
       "      <td>345334322023</td>\n",
       "      <td>CeraVe PM Facial Moisturizing Lotion, La Roche...</td>\n",
       "      <td>fragrance</td>\n",
       "      <td>17</td>\n",
       "      <td>1</td>\n",
       "    </tr>\n",
       "    <tr>\n",
       "      <th>27</th>\n",
       "      <td>https://snapklik.com/en-gb/product/cosrx-glass...</td>\n",
       "      <td>Glass Skin Starter Set</td>\n",
       "      <td>https://m.media-amazon.com/images/I/71nUiC925z...</td>\n",
       "      <td>$54</td>\n",
       "      <td>Glass Skin Regimen: The perfect regime for dew...</td>\n",
       "      <td>[retinol]</td>\n",
       "      <td>[ Advanced Snail 96% Mucin Power Essence &amp; Ret...</td>\n",
       "      <td>0.2 kg</td>\n",
       "      <td>0I684P37OF075</td>\n",
       "      <td>COSRX</td>\n",
       "      <td>1</td>\n",
       "      <td>NaN</td>\n",
       "      <td>8809598455689</td>\n",
       "      <td>Glass Skin Starter Set, Glass Skin Starter Set</td>\n",
       "      <td>retinol</td>\n",
       "      <td>2</td>\n",
       "      <td>1</td>\n",
       "    </tr>\n",
       "    <tr>\n",
       "      <th>28</th>\n",
       "      <td>https://snapklik.com/en-gb/product/sun-bum-ori...</td>\n",
       "      <td>Sun Bum Original SPF 50 Sunscreen Body Spray -...</td>\n",
       "      <td>https://m.media-amazon.com/images/I/71fZDitOEY...</td>\n",
       "      <td>$54</td>\n",
       "      <td>PROTECT YOUR SKIN The key to practicing safe s...</td>\n",
       "      <td>[vitamin e]</td>\n",
       "      <td>[]</td>\n",
       "      <td>0.2 kg</td>\n",
       "      <td>05SL4PM7FOW45</td>\n",
       "      <td>Sun Bum</td>\n",
       "      <td>20-42050</td>\n",
       "      <td>NaN</td>\n",
       "      <td>871760001978</td>\n",
       "      <td>Sun Bum Original SPF 50 Sunscreen Body Spray -...</td>\n",
       "      <td>vitamin e</td>\n",
       "      <td>2</td>\n",
       "      <td>1</td>\n",
       "    </tr>\n",
       "    <tr>\n",
       "      <th>29</th>\n",
       "      <td>https://snapklik.com/en-gb/product/grace-and-s...</td>\n",
       "      <td>Grace &amp; Stella Award Winning Under Eye Mask Re...</td>\n",
       "      <td>https://m.media-amazon.com/images/I/71PhKZmsPG...</td>\n",
       "      <td>$49</td>\n",
       "      <td>Loved by Millions - Used by Jessica Alba, Leon...</td>\n",
       "      <td>[niacinamide]</td>\n",
       "      <td>[ Puffy Eyes,  Undereye Bags,  Wrinkles,  Gel ...</td>\n",
       "      <td>NaN</td>\n",
       "      <td>0P4Y4P87RA7K5</td>\n",
       "      <td>Grace &amp; Stella</td>\n",
       "      <td>Blue (48 Pairs)</td>\n",
       "      <td>GS-MASK-UNDEREYE-BLU-48PR</td>\n",
       "      <td>860010427330</td>\n",
       "      <td>CeraVe PM Facial Moisturizing Lotion, La Roche...</td>\n",
       "      <td>niacinamide</td>\n",
       "      <td>11</td>\n",
       "      <td>1</td>\n",
       "    </tr>\n",
       "    <tr>\n",
       "      <th>30</th>\n",
       "      <td>https://snapklik.com/en-gb/product/sun-bum-ori...</td>\n",
       "      <td>Sun Bum Original SPF 50 Sunscreen Body Spray -...</td>\n",
       "      <td>https://m.media-amazon.com/images/I/71fZDitOEY...</td>\n",
       "      <td>$54</td>\n",
       "      <td>TRUST THE BUM What does that mean? It means tr...</td>\n",
       "      <td>[vitamin e]</td>\n",
       "      <td>[]</td>\n",
       "      <td>0.2 kg</td>\n",
       "      <td>05SL4PM7FOW45</td>\n",
       "      <td>Sun Bum</td>\n",
       "      <td>20-42050</td>\n",
       "      <td>NaN</td>\n",
       "      <td>871760001978</td>\n",
       "      <td>Sun Bum Original SPF 50 Sunscreen Body Spray -...</td>\n",
       "      <td>vitamin e</td>\n",
       "      <td>2</td>\n",
       "      <td>1</td>\n",
       "    </tr>\n",
       "    <tr>\n",
       "      <th>31</th>\n",
       "      <td>https://snapklik.com/en-gb/product/cosrx-glass...</td>\n",
       "      <td>Glass Skin Starter Set</td>\n",
       "      <td>https://m.media-amazon.com/images/I/71nUiC925z...</td>\n",
       "      <td>$54</td>\n",
       "      <td>Caution: The set includes a mini sample of The...</td>\n",
       "      <td>[retinol]</td>\n",
       "      <td>[ Advanced Snail 96% Mucin Power Essence &amp; Ret...</td>\n",
       "      <td>0.2 kg</td>\n",
       "      <td>0I684P37OF075</td>\n",
       "      <td>COSRX</td>\n",
       "      <td>1</td>\n",
       "      <td>NaN</td>\n",
       "      <td>8809598455689</td>\n",
       "      <td>Glass Skin Starter Set, Glass Skin Starter Set</td>\n",
       "      <td>retinol</td>\n",
       "      <td>2</td>\n",
       "      <td>1</td>\n",
       "    </tr>\n",
       "    <tr>\n",
       "      <th>32</th>\n",
       "      <td>https://snapklik.com/en-gb/product/vanicream-g...</td>\n",
       "      <td>Gentle Facial Cleaner</td>\n",
       "      <td>https://m.media-amazon.com/images/I/611m0CHMmQ...</td>\n",
       "      <td>$19</td>\n",
       "      <td>Gentle Cleansing for Sensitive Skin: Vanicream...</td>\n",
       "      <td>[fragrance]</td>\n",
       "      <td>[ 2, 5 Fl Oz,  Formulated Without Common Irrit...</td>\n",
       "      <td>0.1 kg</td>\n",
       "      <td>09IV4PK7R3FF5</td>\n",
       "      <td>Vanicream</td>\n",
       "      <td>322-02</td>\n",
       "      <td>NaN</td>\n",
       "      <td>345334322023</td>\n",
       "      <td>CeraVe PM Facial Moisturizing Lotion, La Roche...</td>\n",
       "      <td>fragrance</td>\n",
       "      <td>17</td>\n",
       "      <td>1</td>\n",
       "    </tr>\n",
       "    <tr>\n",
       "      <th>33</th>\n",
       "      <td>https://snapklik.com/en-gb/product/basics-gent...</td>\n",
       "      <td>Basics Gentle &amp; Mild Clear Liquid Hand Soap Re...</td>\n",
       "      <td>https://m.media-amazon.com/images/I/61F5elwBZY...</td>\n",
       "      <td>$24</td>\n",
       "      <td>Not tested on animals Made in the U</td>\n",
       "      <td>[]</td>\n",
       "      <td>[ Triclosan-free,  50 Fluid Ounces,  1-Pack]</td>\n",
       "      <td>NaN</td>\n",
       "      <td>09ZW4PY7OZOZ5</td>\n",
       "      <td>Amazon.com Services LLC.</td>\n",
       "      <td>NaN</td>\n",
       "      <td>NaN</td>\n",
       "      <td>195515037167</td>\n",
       "      <td></td>\n",
       "      <td></td>\n",
       "      <td>0</td>\n",
       "      <td>0</td>\n",
       "    </tr>\n",
       "    <tr>\n",
       "      <th>34</th>\n",
       "      <td>https://snapklik.com/en-gb/product/basics-liqu...</td>\n",
       "      <td>Basics Liquid Hand Soap Refill</td>\n",
       "      <td>https://m.media-amazon.com/images/I/61p2PTBG7k...</td>\n",
       "      <td>$24</td>\n",
       "      <td>Formulated without triclosan, phthalates, para...</td>\n",
       "      <td>[]</td>\n",
       "      <td>[ Milk And Honey Scent,  Triclosan-free,  50 F...</td>\n",
       "      <td>NaN</td>\n",
       "      <td>09DP4PI7PZ8Z5</td>\n",
       "      <td>Amazon.com Services LLC.</td>\n",
       "      <td>NaN</td>\n",
       "      <td>NaN</td>\n",
       "      <td>195515025225</td>\n",
       "      <td></td>\n",
       "      <td></td>\n",
       "      <td>0</td>\n",
       "      <td>0</td>\n",
       "    </tr>\n",
       "    <tr>\n",
       "      <th>35</th>\n",
       "      <td>https://snapklik.com/en-gb/product/banana-boat...</td>\n",
       "      <td>Banana Boat Sport Ultra SPF 50 Sunscreen Spray...</td>\n",
       "      <td>https://m.media-amazon.com/images/I/718YALMz0G...</td>\n",
       "      <td>$49</td>\n",
       "      <td>LIGHTWEIGHT, BREATHABLE FORMULA — Non-greasy f...</td>\n",
       "      <td>[]</td>\n",
       "      <td>[]</td>\n",
       "      <td>0.2 kg</td>\n",
       "      <td>07OO4PB7HA9C5</td>\n",
       "      <td>Energizer Personal Care</td>\n",
       "      <td>X300599901</td>\n",
       "      <td>COMINE024826</td>\n",
       "      <td>079656013320</td>\n",
       "      <td></td>\n",
       "      <td></td>\n",
       "      <td>0</td>\n",
       "      <td>0</td>\n",
       "    </tr>\n",
       "    <tr>\n",
       "      <th>36</th>\n",
       "      <td>https://snapklik.com/en-gb/product/banana-boat...</td>\n",
       "      <td>Banana Boat Sport Ultra SPF 50 Sunscreen Spray...</td>\n",
       "      <td>https://m.media-amazon.com/images/I/718YALMz0G...</td>\n",
       "      <td>$49</td>\n",
       "      <td>LIGHTWEIGHT, BREATHABLE FORMULA — Non-greasy f...</td>\n",
       "      <td>[]</td>\n",
       "      <td>[]</td>\n",
       "      <td>0.2 kg</td>\n",
       "      <td>07OO4PB7HA9C5</td>\n",
       "      <td>Energizer Personal Care</td>\n",
       "      <td>X300599901</td>\n",
       "      <td>COMINE024826</td>\n",
       "      <td>079656013320</td>\n",
       "      <td></td>\n",
       "      <td></td>\n",
       "      <td>0</td>\n",
       "      <td>0</td>\n",
       "    </tr>\n",
       "    <tr>\n",
       "      <th>37</th>\n",
       "      <td>https://snapklik.com/en-gb/product/banana-boat...</td>\n",
       "      <td>Banana Boat Sport Ultra SPF 50 Sunscreen Spray...</td>\n",
       "      <td>https://m.media-amazon.com/images/I/718YALMz0G...</td>\n",
       "      <td>$49</td>\n",
       "      <td>LIGHTWEIGHT, BREATHABLE FORMULA — Non-greasy f...</td>\n",
       "      <td>[]</td>\n",
       "      <td>[]</td>\n",
       "      <td>0.2 kg</td>\n",
       "      <td>07OO4PB7HA9C5</td>\n",
       "      <td>Energizer Personal Care</td>\n",
       "      <td>X300599901</td>\n",
       "      <td>COMINE024826</td>\n",
       "      <td>079656013320</td>\n",
       "      <td></td>\n",
       "      <td></td>\n",
       "      <td>0</td>\n",
       "      <td>0</td>\n",
       "    </tr>\n",
       "    <tr>\n",
       "      <th>38</th>\n",
       "      <td>https://snapklik.com/en-gb/product/basics-liqu...</td>\n",
       "      <td>Basics Liquid Hand Soap Refill</td>\n",
       "      <td>https://m.media-amazon.com/images/I/61p2PTBG7k...</td>\n",
       "      <td>$24</td>\n",
       "      <td>One 50 fluid ounce bottle of milk and honey li...</td>\n",
       "      <td>[]</td>\n",
       "      <td>[ Milk And Honey Scent,  Triclosan-free,  50 F...</td>\n",
       "      <td>NaN</td>\n",
       "      <td>09DP4PI7PZ8Z5</td>\n",
       "      <td>Amazon.com Services LLC.</td>\n",
       "      <td>NaN</td>\n",
       "      <td>NaN</td>\n",
       "      <td>195515025225</td>\n",
       "      <td></td>\n",
       "      <td></td>\n",
       "      <td>0</td>\n",
       "      <td>0</td>\n",
       "    </tr>\n",
       "    <tr>\n",
       "      <th>39</th>\n",
       "      <td>https://snapklik.com/en-gb/product/basics-liqu...</td>\n",
       "      <td>Basics Liquid Hand Soap Refill</td>\n",
       "      <td>https://m.media-amazon.com/images/I/61p2PTBG7k...</td>\n",
       "      <td>$24</td>\n",
       "      <td>One 50 fluid ounce bottle of milk and honey li...</td>\n",
       "      <td>[]</td>\n",
       "      <td>[ Milk And Honey Scent,  Triclosan-free,  50 F...</td>\n",
       "      <td>NaN</td>\n",
       "      <td>09DP4PI7PZ8Z5</td>\n",
       "      <td>Amazon.com Services LLC.</td>\n",
       "      <td>NaN</td>\n",
       "      <td>NaN</td>\n",
       "      <td>195515025225</td>\n",
       "      <td></td>\n",
       "      <td></td>\n",
       "      <td>0</td>\n",
       "      <td>0</td>\n",
       "    </tr>\n",
       "    <tr>\n",
       "      <th>40</th>\n",
       "      <td>https://snapklik.com/en-gb/product/basics-gent...</td>\n",
       "      <td>Basics Gentle &amp; Mild Clear Liquid Hand Soap Re...</td>\n",
       "      <td>https://m.media-amazon.com/images/I/61F5elwBZY...</td>\n",
       "      <td>$24</td>\n",
       "      <td>Dermatologist tested; free from triclosan, pht...</td>\n",
       "      <td>[]</td>\n",
       "      <td>[ Triclosan-free,  50 Fluid Ounces,  1-Pack]</td>\n",
       "      <td>NaN</td>\n",
       "      <td>09ZW4PY7OZOZ5</td>\n",
       "      <td>Amazon.com Services LLC.</td>\n",
       "      <td>NaN</td>\n",
       "      <td>NaN</td>\n",
       "      <td>195515037167</td>\n",
       "      <td></td>\n",
       "      <td></td>\n",
       "      <td>0</td>\n",
       "      <td>0</td>\n",
       "    </tr>\n",
       "    <tr>\n",
       "      <th>41</th>\n",
       "      <td>https://snapklik.com/en-gb/product/basics-gent...</td>\n",
       "      <td>Basics Gentle &amp; Mild Clear Liquid Hand Soap Re...</td>\n",
       "      <td>https://m.media-amazon.com/images/I/61F5elwBZY...</td>\n",
       "      <td>$24</td>\n",
       "      <td>Not tested on animals Made in the U</td>\n",
       "      <td>[]</td>\n",
       "      <td>[ Triclosan-free,  50 Fluid Ounces,  1-Pack]</td>\n",
       "      <td>NaN</td>\n",
       "      <td>09ZW4PY7OZOZ5</td>\n",
       "      <td>Amazon.com Services LLC.</td>\n",
       "      <td>NaN</td>\n",
       "      <td>NaN</td>\n",
       "      <td>195515037167</td>\n",
       "      <td></td>\n",
       "      <td></td>\n",
       "      <td>0</td>\n",
       "      <td>0</td>\n",
       "    </tr>\n",
       "  </tbody>\n",
       "</table>\n",
       "</div>"
      ],
      "text/plain": [
       "                                           Source_URL  \\\n",
       "0   https://snapklik.com/en-gb/product/la-roche-po...   \n",
       "1   https://snapklik.com/en-gb/product/la-roche-po...   \n",
       "2   https://snapklik.com/en-gb/product/la-roche-po...   \n",
       "3   https://snapklik.com/en-gb/product/cerave-skin...   \n",
       "4   https://snapklik.com/en-gb/product/cerave-skin...   \n",
       "5   https://snapklik.com/en-gb/product/cerave-skin...   \n",
       "6   https://snapklik.com/en-gb/product/cerave-pm-f...   \n",
       "7   https://snapklik.com/en-gb/product/hawaiian-tr...   \n",
       "8   https://snapklik.com/en-gb/product/cerave-pm-f...   \n",
       "9   https://snapklik.com/en-gb/product/hawaiian-tr...   \n",
       "10  https://snapklik.com/en-gb/product/cerave-pm-f...   \n",
       "11  https://snapklik.com/en-gb/product/hawaiian-tr...   \n",
       "12  https://snapklik.com/en-gb/product/aquaphor-he...   \n",
       "13  https://snapklik.com/en-gb/product/aquaphor-he...   \n",
       "14  https://snapklik.com/en-gb/product/anua-heartl...   \n",
       "15  https://snapklik.com/en-gb/product/anua-heartl...   \n",
       "16  https://snapklik.com/en-gb/product/anua-heartl...   \n",
       "17  https://snapklik.com/en-gb/product/aquaphor-he...   \n",
       "18  https://snapklik.com/en-gb/product/dove-bar-so...   \n",
       "19  https://snapklik.com/en-gb/product/dove-bar-so...   \n",
       "20  https://snapklik.com/en-gb/product/vanicream-g...   \n",
       "21  https://snapklik.com/en-gb/product/cosrx-glass...   \n",
       "22  https://snapklik.com/en-gb/product/sun-bum-ori...   \n",
       "23  https://snapklik.com/en-gb/product/grace-and-s...   \n",
       "24  https://snapklik.com/en-gb/product/grace-and-s...   \n",
       "25  https://snapklik.com/en-gb/product/dove-bar-so...   \n",
       "26  https://snapklik.com/en-gb/product/vanicream-g...   \n",
       "27  https://snapklik.com/en-gb/product/cosrx-glass...   \n",
       "28  https://snapklik.com/en-gb/product/sun-bum-ori...   \n",
       "29  https://snapklik.com/en-gb/product/grace-and-s...   \n",
       "30  https://snapklik.com/en-gb/product/sun-bum-ori...   \n",
       "31  https://snapklik.com/en-gb/product/cosrx-glass...   \n",
       "32  https://snapklik.com/en-gb/product/vanicream-g...   \n",
       "33  https://snapklik.com/en-gb/product/basics-gent...   \n",
       "34  https://snapklik.com/en-gb/product/basics-liqu...   \n",
       "35  https://snapklik.com/en-gb/product/banana-boat...   \n",
       "36  https://snapklik.com/en-gb/product/banana-boat...   \n",
       "37  https://snapklik.com/en-gb/product/banana-boat...   \n",
       "38  https://snapklik.com/en-gb/product/basics-liqu...   \n",
       "39  https://snapklik.com/en-gb/product/basics-liqu...   \n",
       "40  https://snapklik.com/en-gb/product/basics-gent...   \n",
       "41  https://snapklik.com/en-gb/product/basics-gent...   \n",
       "\n",
       "                                         Product_Name  \\\n",
       "0   La Roche-Posay Toleriane Hydrating Gentle Faci...   \n",
       "1   La Roche-Posay Toleriane Hydrating Gentle Faci...   \n",
       "2   La Roche-Posay Toleriane Hydrating Gentle Faci...   \n",
       "3                           Skin Renewing Night Cream   \n",
       "4                           Skin Renewing Night Cream   \n",
       "5                           Skin Renewing Night Cream   \n",
       "6                CeraVe PM Facial Moisturizing Lotion   \n",
       "7               Hawaiian Tropic After Sun Body Butter   \n",
       "8                CeraVe PM Facial Moisturizing Lotion   \n",
       "9               Hawaiian Tropic After Sun Body Butter   \n",
       "10               CeraVe PM Facial Moisturizing Lotion   \n",
       "11              Hawaiian Tropic After Sun Body Butter   \n",
       "12  Aquaphor Healing Ointment Advanced Therapy Ski...   \n",
       "13  Aquaphor Healing Ointment Advanced Therapy Ski...   \n",
       "14  ANUA Heartleaf Quercetinol Pore Deep Cleansing...   \n",
       "15  ANUA Heartleaf Quercetinol Pore Deep Cleansing...   \n",
       "16  ANUA Heartleaf Quercetinol Pore Deep Cleansing...   \n",
       "17  Aquaphor Healing Ointment Advanced Therapy Ski...   \n",
       "18                 Dove Bar Soap For Sensitive Skin 3   \n",
       "19                 Dove Bar Soap For Sensitive Skin 3   \n",
       "20                              Gentle Facial Cleaner   \n",
       "21                             Glass Skin Starter Set   \n",
       "22  Sun Bum Original SPF 50 Sunscreen Body Spray -...   \n",
       "23  Grace & Stella Award Winning Under Eye Mask Re...   \n",
       "24  Grace & Stella Award Winning Under Eye Mask Re...   \n",
       "25                 Dove Bar Soap For Sensitive Skin 3   \n",
       "26                              Gentle Facial Cleaner   \n",
       "27                             Glass Skin Starter Set   \n",
       "28  Sun Bum Original SPF 50 Sunscreen Body Spray -...   \n",
       "29  Grace & Stella Award Winning Under Eye Mask Re...   \n",
       "30  Sun Bum Original SPF 50 Sunscreen Body Spray -...   \n",
       "31                             Glass Skin Starter Set   \n",
       "32                              Gentle Facial Cleaner   \n",
       "33  Basics Gentle & Mild Clear Liquid Hand Soap Re...   \n",
       "34                     Basics Liquid Hand Soap Refill   \n",
       "35  Banana Boat Sport Ultra SPF 50 Sunscreen Spray...   \n",
       "36  Banana Boat Sport Ultra SPF 50 Sunscreen Spray...   \n",
       "37  Banana Boat Sport Ultra SPF 50 Sunscreen Spray...   \n",
       "38                     Basics Liquid Hand Soap Refill   \n",
       "39                     Basics Liquid Hand Soap Refill   \n",
       "40  Basics Gentle & Mild Clear Liquid Hand Soap Re...   \n",
       "41  Basics Gentle & Mild Clear Liquid Hand Soap Re...   \n",
       "\n",
       "                                        Product_image Price  \\\n",
       "0   https://m.media-amazon.com/images/I/61E45LOdhW...   $29   \n",
       "1   https://m.media-amazon.com/images/I/61E45LOdhW...   $29   \n",
       "2   https://m.media-amazon.com/images/I/61E45LOdhW...   $29   \n",
       "3   https://m.media-amazon.com/images/I/71r7bLsvaV...   $34   \n",
       "4   https://m.media-amazon.com/images/I/71r7bLsvaV...   $34   \n",
       "5   https://m.media-amazon.com/images/I/71r7bLsvaV...   $34   \n",
       "6   https://m.media-amazon.com/images/I/71jdcrAdwb...   $29   \n",
       "7   https://m.media-amazon.com/images/I/71PfiAX-J+...   $24   \n",
       "8   https://m.media-amazon.com/images/I/71jdcrAdwb...   $29   \n",
       "9   https://m.media-amazon.com/images/I/71PfiAX-J+...   $24   \n",
       "10  https://m.media-amazon.com/images/I/71jdcrAdwb...   $29   \n",
       "11  https://m.media-amazon.com/images/I/71PfiAX-J+...   $24   \n",
       "12  https://m.media-amazon.com/images/I/61vI44BO7u...   $29   \n",
       "13  https://m.media-amazon.com/images/I/61vI44BO7u...   $29   \n",
       "14  https://m.media-amazon.com/images/I/51Kpw2r-pI...   $29   \n",
       "15  https://m.media-amazon.com/images/I/51Kpw2r-pI...   $29   \n",
       "16  https://m.media-amazon.com/images/I/51Kpw2r-pI...   $29   \n",
       "17  https://m.media-amazon.com/images/I/61vI44BO7u...   $29   \n",
       "18  https://m.media-amazon.com/images/I/61tas--Ax5...   $19   \n",
       "19  https://m.media-amazon.com/images/I/61tas--Ax5...   $19   \n",
       "20  https://m.media-amazon.com/images/I/611m0CHMmQ...   $19   \n",
       "21  https://m.media-amazon.com/images/I/71nUiC925z...   $54   \n",
       "22  https://m.media-amazon.com/images/I/71fZDitOEY...   $54   \n",
       "23  https://m.media-amazon.com/images/I/71PhKZmsPG...   $49   \n",
       "24  https://m.media-amazon.com/images/I/71PhKZmsPG...   $49   \n",
       "25  https://m.media-amazon.com/images/I/61tas--Ax5...   $19   \n",
       "26  https://m.media-amazon.com/images/I/611m0CHMmQ...   $19   \n",
       "27  https://m.media-amazon.com/images/I/71nUiC925z...   $54   \n",
       "28  https://m.media-amazon.com/images/I/71fZDitOEY...   $54   \n",
       "29  https://m.media-amazon.com/images/I/71PhKZmsPG...   $49   \n",
       "30  https://m.media-amazon.com/images/I/71fZDitOEY...   $54   \n",
       "31  https://m.media-amazon.com/images/I/71nUiC925z...   $54   \n",
       "32  https://m.media-amazon.com/images/I/611m0CHMmQ...   $19   \n",
       "33  https://m.media-amazon.com/images/I/61F5elwBZY...   $24   \n",
       "34  https://m.media-amazon.com/images/I/61p2PTBG7k...   $24   \n",
       "35  https://m.media-amazon.com/images/I/718YALMz0G...   $49   \n",
       "36  https://m.media-amazon.com/images/I/718YALMz0G...   $49   \n",
       "37  https://m.media-amazon.com/images/I/718YALMz0G...   $49   \n",
       "38  https://m.media-amazon.com/images/I/61p2PTBG7k...   $24   \n",
       "39  https://m.media-amazon.com/images/I/61p2PTBG7k...   $24   \n",
       "40  https://m.media-amazon.com/images/I/61F5elwBZY...   $24   \n",
       "41  https://m.media-amazon.com/images/I/61F5elwBZY...   $24   \n",
       "\n",
       "                                  Product_Description  \\\n",
       "0   Its gentle cream formula helps restore skin co...   \n",
       "1   Its gentle cream formula helps restore skin co...   \n",
       "2   Formulated with La Roche-Posay prebiotic therm...   \n",
       "3   [ PEPTIDE COMPLEX ] Help reduced the look of f...   \n",
       "4   [ PEPTIDE COMPLEX ] Help reduced the look of f...   \n",
       "5   [ PEPTIDE COMPLEX ] Help reduced the look of f...   \n",
       "6   [ OVERNIGHT MOISTURIZER ] Cerave’s PM face cre...   \n",
       "7   THOUGHTFULLY made — Hawaiian Tropic after sun ...   \n",
       "8   [ OVERNIGHT MOISTURIZER ] Cerave’s PM face cre...   \n",
       "9   ULTRA-RICH MOISTURIZERS leave skin feeling sil...   \n",
       "10  [ OVERNIGHT MOISTURIZER ] Cerave’s PM face cre...   \n",
       "11  THOUGHTFULLY made — Hawaiian Tropic after sun ...   \n",
       "12  FOR DRY, COMPROMISED SKIN: This Aquaphor Heali...   \n",
       "13  FOR DRY, COMPROMISED SKIN: This Aquaphor Heali...   \n",
       "14  GENTLE EXFOLIATION : Contains 3,000ppm Heartle...   \n",
       "15  05% BHA : BHA effectively exfoliate dead skin ...   \n",
       "16  GENTLE EXFOLIATION : Contains 3,000ppm Heartle...   \n",
       "17  FOR DRY, COMPROMISED SKIN: This Aquaphor Heali...   \n",
       "18                                    Product of Dove   \n",
       "19                                    Product of Dove   \n",
       "20  Dermatologist-Tested: Awarded the Seal of Acce...   \n",
       "21  Caution: The set includes a mini sample of The...   \n",
       "22  MOISTURIZING SUN PROTECTION Dermatologist and ...   \n",
       "23  Loved by Millions - Used by Jessica Alba, Leon...   \n",
       "24  Soothing formula for refreshed-looking eyes - ...   \n",
       "25  Regular soap can be rough on dry skin; Dove de...   \n",
       "26  Dermatologist-Tested: Awarded the Seal of Acce...   \n",
       "27  Glass Skin Regimen: The perfect regime for dew...   \n",
       "28  PROTECT YOUR SKIN The key to practicing safe s...   \n",
       "29  Loved by Millions - Used by Jessica Alba, Leon...   \n",
       "30  TRUST THE BUM What does that mean? It means tr...   \n",
       "31  Caution: The set includes a mini sample of The...   \n",
       "32  Gentle Cleansing for Sensitive Skin: Vanicream...   \n",
       "33                Not tested on animals Made in the U   \n",
       "34  Formulated without triclosan, phthalates, para...   \n",
       "35  LIGHTWEIGHT, BREATHABLE FORMULA — Non-greasy f...   \n",
       "36  LIGHTWEIGHT, BREATHABLE FORMULA — Non-greasy f...   \n",
       "37  LIGHTWEIGHT, BREATHABLE FORMULA — Non-greasy f...   \n",
       "38  One 50 fluid ounce bottle of milk and honey li...   \n",
       "39  One 50 fluid ounce bottle of milk and honey li...   \n",
       "40  Dermatologist tested; free from triclosan, pht...   \n",
       "41                Not tested on animals Made in the U   \n",
       "\n",
       "                                          Ingredients  \\\n",
       "0   [aqua, glycerin, niacinamide, tocopherol, cera...   \n",
       "1   [aqua, glycerin, niacinamide, tocopherol, cera...   \n",
       "2   [aqua, glycerin, niacinamide, tocopherol, cera...   \n",
       "3   [hyaluronic acid, niacinamide, ceramides, pept...   \n",
       "4   [hyaluronic acid, niacinamide, ceramides, pept...   \n",
       "5   [hyaluronic acid, niacinamide, ceramides, pept...   \n",
       "6   [hyaluronic acid, niacinamide, ceramides, frag...   \n",
       "7   [shea butter, coconut oil, avocado oil, fragra...   \n",
       "8   [hyaluronic acid, niacinamide, ceramides, frag...   \n",
       "9   [shea butter, coconut oil, avocado oil, fragra...   \n",
       "10  [hyaluronic acid, niacinamide, ceramides, frag...   \n",
       "11  [shea butter, coconut oil, avocado oil, fragra...   \n",
       "12                       [aqua, glycerin, petrolatum]   \n",
       "13                       [aqua, glycerin, petrolatum]   \n",
       "14                   [glycerin, hyaluronic acid, bha]   \n",
       "15                   [glycerin, hyaluronic acid, bha]   \n",
       "16                   [glycerin, hyaluronic acid, bha]   \n",
       "17                       [aqua, glycerin, petrolatum]   \n",
       "18                                        [fragrance]   \n",
       "19                                        [fragrance]   \n",
       "20                                        [fragrance]   \n",
       "21                                          [retinol]   \n",
       "22                                        [vitamin e]   \n",
       "23                                      [niacinamide]   \n",
       "24                                      [niacinamide]   \n",
       "25                                        [fragrance]   \n",
       "26                                        [fragrance]   \n",
       "27                                          [retinol]   \n",
       "28                                        [vitamin e]   \n",
       "29                                      [niacinamide]   \n",
       "30                                        [vitamin e]   \n",
       "31                                          [retinol]   \n",
       "32                                        [fragrance]   \n",
       "33                                                 []   \n",
       "34                                                 []   \n",
       "35                                                 []   \n",
       "36                                                 []   \n",
       "37                                                 []   \n",
       "38                                                 []   \n",
       "39                                                 []   \n",
       "40                                                 []   \n",
       "41                                                 []   \n",
       "\n",
       "                                   Product_Line_Name: Size/Volume  \\\n",
       "0                                  [ Daily Face Wash]      0.2 kg   \n",
       "1                                  [ Daily Face Wash]      0.2 kg   \n",
       "2                                  [ Daily Face Wash]      0.2 kg   \n",
       "3   [ Niacinamide,  Peptide Complex,  And Hyaluron...      0.3 kg   \n",
       "4   [ Niacinamide,  Peptide Complex,  And Hyaluron...      0.3 kg   \n",
       "5   [ Niacinamide,  Peptide Complex,  And Hyaluron...      0.3 kg   \n",
       "6                                      [ Night Cream]      0.1 kg   \n",
       "7                                                  []      0.3 kg   \n",
       "8                                      [ Night Cream]      0.1 kg   \n",
       "9                                                  []      0.3 kg   \n",
       "10                                     [ Night Cream]      0.1 kg   \n",
       "11                                                 []      0.3 kg   \n",
       "12                                                 []      0.2 kg   \n",
       "13                                                 []      0.2 kg   \n",
       "14  [ Facial Cleanser,  For Double Cleansing,  BHA...      0.1 kg   \n",
       "15  [ Facial Cleanser,  For Double Cleansing,  BHA...      0.1 kg   \n",
       "16  [ Facial Cleanser,  For Double Cleansing,  BHA...      0.1 kg   \n",
       "17                                                 []      0.2 kg   \n",
       "18                                            [17 Oz]      0.2 kg   \n",
       "19                                            [17 Oz]      0.2 kg   \n",
       "20  [ 2, 5 Fl Oz,  Formulated Without Common Irrit...      0.1 kg   \n",
       "21  [ Advanced Snail 96% Mucin Power Essence & Ret...      0.2 kg   \n",
       "22                                                 []      0.2 kg   \n",
       "23  [ Puffy Eyes,  Undereye Bags,  Wrinkles,  Gel ...         NaN   \n",
       "24  [ Puffy Eyes,  Undereye Bags,  Wrinkles,  Gel ...         NaN   \n",
       "25                                            [17 Oz]      0.2 kg   \n",
       "26  [ 2, 5 Fl Oz,  Formulated Without Common Irrit...      0.1 kg   \n",
       "27  [ Advanced Snail 96% Mucin Power Essence & Ret...      0.2 kg   \n",
       "28                                                 []      0.2 kg   \n",
       "29  [ Puffy Eyes,  Undereye Bags,  Wrinkles,  Gel ...         NaN   \n",
       "30                                                 []      0.2 kg   \n",
       "31  [ Advanced Snail 96% Mucin Power Essence & Ret...      0.2 kg   \n",
       "32  [ 2, 5 Fl Oz,  Formulated Without Common Irrit...      0.1 kg   \n",
       "33       [ Triclosan-free,  50 Fluid Ounces,  1-Pack]         NaN   \n",
       "34  [ Milk And Honey Scent,  Triclosan-free,  50 F...         NaN   \n",
       "35                                                 []      0.2 kg   \n",
       "36                                                 []      0.2 kg   \n",
       "37                                                 []      0.2 kg   \n",
       "38  [ Milk And Honey Scent,  Triclosan-free,  50 F...         NaN   \n",
       "39  [ Milk And Honey Scent,  Triclosan-free,  50 F...         NaN   \n",
       "40       [ Triclosan-free,  50 Fluid Ounces,  1-Pack]         NaN   \n",
       "41       [ Triclosan-free,  50 Fluid Ounces,  1-Pack]         NaN   \n",
       "\n",
       "             SKID               Brand Name             Model  \\\n",
       "0   02P64PW7RHMY5            AmazonUs/LOSQH       B07WS6BTDK   \n",
       "1   02P64PW7RHMY5            AmazonUs/LOSQH       B07WS6BTDK   \n",
       "2   02P64PW7RHMY5            AmazonUs/LOSQH       B07WS6BTDK   \n",
       "3   05IJ4PB7FKHH5                    CeraVe       B00SNPCSUY   \n",
       "4   05IJ4PB7FKHH5                    CeraVe       B00SNPCSUY   \n",
       "5   05IJ4PB7FKHH5                    CeraVe       B00SNPCSUY   \n",
       "6   05W04PP7I6G15                    CeraVe    VALEANT432229   \n",
       "7   02W44P37CZWP5    Edgewell Personal Care  Hawaiian Tropic   \n",
       "8   05W04PP7I6G15                    CeraVe    VALEANT432229   \n",
       "9   02W44P37CZWP5    Edgewell Personal Care  Hawaiian Tropic   \n",
       "10  05W04PP7I6G15                    CeraVe    VALEANT432229   \n",
       "11  02W44P37CZWP5    Edgewell Personal Care  Hawaiian Tropic   \n",
       "12  07JA4PP7B2U55                  Aquaphor              NaN   \n",
       "13  07JA4PP7B2U55                  Aquaphor              NaN   \n",
       "14  0PP84PF7VDKD5                       NaN         AN000089   \n",
       "15  0PP84PF7VDKD5                       NaN         AN000089   \n",
       "16  0PP84PF7VDKD5                       NaN         AN000089   \n",
       "17  07JA4PP7B2U55                  Aquaphor              NaN   \n",
       "18  07904P67GHGP5                  Unilever      PPAX1299915   \n",
       "19  07904P67GHGP5                  Unilever      PPAX1299915   \n",
       "20  09IV4PK7R3FF5                 Vanicream           322-02   \n",
       "21  0I684P37OF075                     COSRX                1   \n",
       "22  05SL4PM7FOW45                   Sun Bum         20-42050   \n",
       "23  0P4Y4P87RA7K5            Grace & Stella  Blue (48 Pairs)   \n",
       "24  0P4Y4P87RA7K5            Grace & Stella  Blue (48 Pairs)   \n",
       "25  07904P67GHGP5                  Unilever      PPAX1299915   \n",
       "26  09IV4PK7R3FF5                 Vanicream           322-02   \n",
       "27  0I684P37OF075                     COSRX                1   \n",
       "28  05SL4PM7FOW45                   Sun Bum         20-42050   \n",
       "29  0P4Y4P87RA7K5            Grace & Stella  Blue (48 Pairs)   \n",
       "30  05SL4PM7FOW45                   Sun Bum         20-42050   \n",
       "31  0I684P37OF075                     COSRX                1   \n",
       "32  09IV4PK7R3FF5                 Vanicream           322-02   \n",
       "33  09ZW4PY7OZOZ5  Amazon.com Services LLC.              NaN   \n",
       "34  09DP4PI7PZ8Z5  Amazon.com Services LLC.              NaN   \n",
       "35  07OO4PB7HA9C5   Energizer Personal Care       X300599901   \n",
       "36  07OO4PB7HA9C5   Energizer Personal Care       X300599901   \n",
       "37  07OO4PB7HA9C5   Energizer Personal Care       X300599901   \n",
       "38  09DP4PI7PZ8Z5  Amazon.com Services LLC.              NaN   \n",
       "39  09DP4PI7PZ8Z5  Amazon.com Services LLC.              NaN   \n",
       "40  09ZW4PY7OZOZ5  Amazon.com Services LLC.              NaN   \n",
       "41  09ZW4PY7OZOZ5  Amazon.com Services LLC.              NaN   \n",
       "\n",
       "                   Product ID        BARCODE  \\\n",
       "0                         NaN  3337875685900   \n",
       "1                         NaN  3337875685900   \n",
       "2                         NaN  3337875685900   \n",
       "3                         NaN  3606000537606   \n",
       "4                         NaN  3606000537606   \n",
       "5                         NaN  3606000537606   \n",
       "6                         NaN  3606000537453   \n",
       "7                         NaN   075486091668   \n",
       "8                         NaN  3606000537453   \n",
       "9                         NaN   075486091668   \n",
       "10                        NaN  3606000537453   \n",
       "11                        NaN   075486091668   \n",
       "12                72140019457   072140019457   \n",
       "13                72140019457   072140019457   \n",
       "14                        NaN  8809640733642   \n",
       "15                        NaN  8809640733642   \n",
       "16                        NaN  8809640733642   \n",
       "17                72140019457   072140019457   \n",
       "18                        NaN   011111036444   \n",
       "19                        NaN   011111036444   \n",
       "20                        NaN   345334322023   \n",
       "21                        NaN  8809598455689   \n",
       "22                        NaN   871760001978   \n",
       "23  GS-MASK-UNDEREYE-BLU-48PR   860010427330   \n",
       "24  GS-MASK-UNDEREYE-BLU-48PR   860010427330   \n",
       "25                        NaN   011111036444   \n",
       "26                        NaN   345334322023   \n",
       "27                        NaN  8809598455689   \n",
       "28                        NaN   871760001978   \n",
       "29  GS-MASK-UNDEREYE-BLU-48PR   860010427330   \n",
       "30                        NaN   871760001978   \n",
       "31                        NaN  8809598455689   \n",
       "32                        NaN   345334322023   \n",
       "33                        NaN   195515037167   \n",
       "34                        NaN   195515025225   \n",
       "35               COMINE024826   079656013320   \n",
       "36               COMINE024826   079656013320   \n",
       "37               COMINE024826   079656013320   \n",
       "38                        NaN   195515025225   \n",
       "39                        NaN   195515025225   \n",
       "40                        NaN   195515037167   \n",
       "41                        NaN   195515037167   \n",
       "\n",
       "                       Products_With_Same_Ingredients  \\\n",
       "0   CeraVe PM Facial Moisturizing Lotion, La Roche...   \n",
       "1   CeraVe PM Facial Moisturizing Lotion, ANUA Hea...   \n",
       "2   CeraVe PM Facial Moisturizing Lotion, La Roche...   \n",
       "3   CeraVe PM Facial Moisturizing Lotion, La Roche...   \n",
       "4   CeraVe PM Facial Moisturizing Lotion, La Roche...   \n",
       "5   CeraVe PM Facial Moisturizing Lotion, La Roche...   \n",
       "6   CeraVe PM Facial Moisturizing Lotion, La Roche...   \n",
       "7   CeraVe PM Facial Moisturizing Lotion, La Roche...   \n",
       "8   CeraVe PM Facial Moisturizing Lotion, La Roche...   \n",
       "9   CeraVe PM Facial Moisturizing Lotion, La Roche...   \n",
       "10  La Roche-Posay Toleriane Hydrating Gentle Faci...   \n",
       "11  CeraVe PM Facial Moisturizing Lotion, La Roche...   \n",
       "12  La Roche-Posay Toleriane Hydrating Gentle Faci...   \n",
       "13  La Roche-Posay Toleriane Hydrating Gentle Faci...   \n",
       "14  CeraVe PM Facial Moisturizing Lotion, La Roche...   \n",
       "15  CeraVe PM Facial Moisturizing Lotion, La Roche...   \n",
       "16  CeraVe PM Facial Moisturizing Lotion, La Roche...   \n",
       "17  La Roche-Posay Toleriane Hydrating Gentle Faci...   \n",
       "18  CeraVe PM Facial Moisturizing Lotion, La Roche...   \n",
       "19  CeraVe PM Facial Moisturizing Lotion, La Roche...   \n",
       "20  CeraVe PM Facial Moisturizing Lotion, La Roche...   \n",
       "21     Glass Skin Starter Set, Glass Skin Starter Set   \n",
       "22  Sun Bum Original SPF 50 Sunscreen Body Spray -...   \n",
       "23  CeraVe PM Facial Moisturizing Lotion, La Roche...   \n",
       "24  CeraVe PM Facial Moisturizing Lotion, La Roche...   \n",
       "25  CeraVe PM Facial Moisturizing Lotion, La Roche...   \n",
       "26  CeraVe PM Facial Moisturizing Lotion, La Roche...   \n",
       "27     Glass Skin Starter Set, Glass Skin Starter Set   \n",
       "28  Sun Bum Original SPF 50 Sunscreen Body Spray -...   \n",
       "29  CeraVe PM Facial Moisturizing Lotion, La Roche...   \n",
       "30  Sun Bum Original SPF 50 Sunscreen Body Spray -...   \n",
       "31     Glass Skin Starter Set, Glass Skin Starter Set   \n",
       "32  CeraVe PM Facial Moisturizing Lotion, La Roche...   \n",
       "33                                                      \n",
       "34                                                      \n",
       "35                                                      \n",
       "36                                                      \n",
       "37                                                      \n",
       "38                                                      \n",
       "39                                                      \n",
       "40                                                      \n",
       "41                                                      \n",
       "\n",
       "                                   Shared_Ingredients  Num_Matching_Products  \\\n",
       "0   aqua, ceramides, fragrance, glycerin, niacinam...                     26   \n",
       "1   aqua, ceramides, fragrance, glycerin, niacinam...                     26   \n",
       "2   aqua, ceramides, fragrance, glycerin, niacinam...                     26   \n",
       "3   ceramides, fragrance, hyaluronic acid, niacina...                     23   \n",
       "4   ceramides, fragrance, hyaluronic acid, niacina...                     23   \n",
       "5   ceramides, fragrance, hyaluronic acid, niacina...                     23   \n",
       "6   ceramides, fragrance, hyaluronic acid, niacina...                     23   \n",
       "7    avocado oil, coconut oil, fragrance, shea butter                     17   \n",
       "8   ceramides, fragrance, hyaluronic acid, niacina...                     23   \n",
       "9    avocado oil, coconut oil, fragrance, shea butter                     17   \n",
       "10  ceramides, fragrance, hyaluronic acid, niacina...                     23   \n",
       "11   avocado oil, coconut oil, fragrance, shea butter                     17   \n",
       "12                         aqua, glycerin, petrolatum                      8   \n",
       "13                         aqua, glycerin, petrolatum                      8   \n",
       "14                     bha, glycerin, hyaluronic acid                     14   \n",
       "15                     bha, glycerin, hyaluronic acid                     14   \n",
       "16                     bha, glycerin, hyaluronic acid                     14   \n",
       "17                         aqua, glycerin, petrolatum                      8   \n",
       "18                                          fragrance                     17   \n",
       "19                                          fragrance                     17   \n",
       "20                                          fragrance                     17   \n",
       "21                                            retinol                      2   \n",
       "22                                          vitamin e                      2   \n",
       "23                                        niacinamide                     11   \n",
       "24                                        niacinamide                     11   \n",
       "25                                          fragrance                     17   \n",
       "26                                          fragrance                     17   \n",
       "27                                            retinol                      2   \n",
       "28                                          vitamin e                      2   \n",
       "29                                        niacinamide                     11   \n",
       "30                                          vitamin e                      2   \n",
       "31                                            retinol                      2   \n",
       "32                                          fragrance                     17   \n",
       "33                                                                         0   \n",
       "34                                                                         0   \n",
       "35                                                                         0   \n",
       "36                                                                         0   \n",
       "37                                                                         0   \n",
       "38                                                                         0   \n",
       "39                                                                         0   \n",
       "40                                                                         0   \n",
       "41                                                                         0   \n",
       "\n",
       "    Num_Unique_Shared_Ingredients  \n",
       "0                               7  \n",
       "1                               7  \n",
       "2                               7  \n",
       "3                               5  \n",
       "4                               5  \n",
       "5                               5  \n",
       "6                               4  \n",
       "7                               4  \n",
       "8                               4  \n",
       "9                               4  \n",
       "10                              4  \n",
       "11                              4  \n",
       "12                              3  \n",
       "13                              3  \n",
       "14                              3  \n",
       "15                              3  \n",
       "16                              3  \n",
       "17                              3  \n",
       "18                              1  \n",
       "19                              1  \n",
       "20                              1  \n",
       "21                              1  \n",
       "22                              1  \n",
       "23                              1  \n",
       "24                              1  \n",
       "25                              1  \n",
       "26                              1  \n",
       "27                              1  \n",
       "28                              1  \n",
       "29                              1  \n",
       "30                              1  \n",
       "31                              1  \n",
       "32                              1  \n",
       "33                              0  \n",
       "34                              0  \n",
       "35                              0  \n",
       "36                              0  \n",
       "37                              0  \n",
       "38                              0  \n",
       "39                              0  \n",
       "40                              0  \n",
       "41                              0  "
      ]
     },
     "execution_count": 77,
     "metadata": {},
     "output_type": "execute_result"
    }
   ],
   "source": [
    "df_sorted = df.sort_values(by='Num_Unique_Shared_Ingredients', ascending=False).reset_index(drop=True)\n",
    "df_sorted\n"
   ]
  },
  {
   "cell_type": "markdown",
   "id": "b84a8a72",
   "metadata": {},
   "source": [
    "### Summary:\n",
    " - This code creates an interactive histogram showing the distribution of the\n",
    " - 'Num_Unique_Shared_Ingredients' values in the dataset.\n",
    " - It divides the data into 30 bins, colors the bars blue, and adds spacing between bars\n",
    " - for clearer visualization.\n",
    " - The chart helps identify how common various counts of unique shared ingredients are among products.\n"
   ]
  },
  {
   "cell_type": "code",
   "execution_count": 78,
   "id": "e1478325",
   "metadata": {
    "scrolled": true
   },
   "outputs": [
    {
     "data": {
      "application/vnd.plotly.v1+json": {
       "config": {
        "plotlyServerURL": "https://plot.ly"
       },
       "data": [
        {
         "alignmentgroup": "True",
         "bingroup": "x",
         "hovertemplate": "Number of Unique Shared Ingredients=%{x}<br>count=%{y}<extra></extra>",
         "legendgroup": "",
         "marker": {
          "color": "#636EFA",
          "pattern": {
           "shape": ""
          }
         },
         "name": "",
         "nbinsx": 30,
         "offsetgroup": "",
         "orientation": "v",
         "showlegend": false,
         "type": "histogram",
         "x": [
          4,
          7,
          0,
          3,
          4,
          1,
          0,
          5,
          1,
          1,
          1,
          1,
          0,
          3,
          4,
          7,
          0,
          3,
          4,
          1,
          0,
          5,
          1,
          1,
          1,
          1,
          0,
          3,
          4,
          7,
          0,
          3,
          4,
          1,
          0,
          5,
          1,
          1,
          1,
          1,
          0,
          3
         ],
         "xaxis": "x",
         "yaxis": "y"
        }
       ],
       "layout": {
        "bargap": 0.2,
        "barmode": "relative",
        "legend": {
         "tracegroupgap": 0
        },
        "template": {
         "data": {
          "bar": [
           {
            "error_x": {
             "color": "#2a3f5f"
            },
            "error_y": {
             "color": "#2a3f5f"
            },
            "marker": {
             "line": {
              "color": "#E5ECF6",
              "width": 0.5
             },
             "pattern": {
              "fillmode": "overlay",
              "size": 10,
              "solidity": 0.2
             }
            },
            "type": "bar"
           }
          ],
          "barpolar": [
           {
            "marker": {
             "line": {
              "color": "#E5ECF6",
              "width": 0.5
             },
             "pattern": {
              "fillmode": "overlay",
              "size": 10,
              "solidity": 0.2
             }
            },
            "type": "barpolar"
           }
          ],
          "carpet": [
           {
            "aaxis": {
             "endlinecolor": "#2a3f5f",
             "gridcolor": "white",
             "linecolor": "white",
             "minorgridcolor": "white",
             "startlinecolor": "#2a3f5f"
            },
            "baxis": {
             "endlinecolor": "#2a3f5f",
             "gridcolor": "white",
             "linecolor": "white",
             "minorgridcolor": "white",
             "startlinecolor": "#2a3f5f"
            },
            "type": "carpet"
           }
          ],
          "choropleth": [
           {
            "colorbar": {
             "outlinewidth": 0,
             "ticks": ""
            },
            "type": "choropleth"
           }
          ],
          "contour": [
           {
            "colorbar": {
             "outlinewidth": 0,
             "ticks": ""
            },
            "colorscale": [
             [
              0,
              "#0d0887"
             ],
             [
              0.1111111111111111,
              "#46039f"
             ],
             [
              0.2222222222222222,
              "#7201a8"
             ],
             [
              0.3333333333333333,
              "#9c179e"
             ],
             [
              0.4444444444444444,
              "#bd3786"
             ],
             [
              0.5555555555555556,
              "#d8576b"
             ],
             [
              0.6666666666666666,
              "#ed7953"
             ],
             [
              0.7777777777777778,
              "#fb9f3a"
             ],
             [
              0.8888888888888888,
              "#fdca26"
             ],
             [
              1,
              "#f0f921"
             ]
            ],
            "type": "contour"
           }
          ],
          "contourcarpet": [
           {
            "colorbar": {
             "outlinewidth": 0,
             "ticks": ""
            },
            "type": "contourcarpet"
           }
          ],
          "heatmap": [
           {
            "colorbar": {
             "outlinewidth": 0,
             "ticks": ""
            },
            "colorscale": [
             [
              0,
              "#0d0887"
             ],
             [
              0.1111111111111111,
              "#46039f"
             ],
             [
              0.2222222222222222,
              "#7201a8"
             ],
             [
              0.3333333333333333,
              "#9c179e"
             ],
             [
              0.4444444444444444,
              "#bd3786"
             ],
             [
              0.5555555555555556,
              "#d8576b"
             ],
             [
              0.6666666666666666,
              "#ed7953"
             ],
             [
              0.7777777777777778,
              "#fb9f3a"
             ],
             [
              0.8888888888888888,
              "#fdca26"
             ],
             [
              1,
              "#f0f921"
             ]
            ],
            "type": "heatmap"
           }
          ],
          "heatmapgl": [
           {
            "colorbar": {
             "outlinewidth": 0,
             "ticks": ""
            },
            "colorscale": [
             [
              0,
              "#0d0887"
             ],
             [
              0.1111111111111111,
              "#46039f"
             ],
             [
              0.2222222222222222,
              "#7201a8"
             ],
             [
              0.3333333333333333,
              "#9c179e"
             ],
             [
              0.4444444444444444,
              "#bd3786"
             ],
             [
              0.5555555555555556,
              "#d8576b"
             ],
             [
              0.6666666666666666,
              "#ed7953"
             ],
             [
              0.7777777777777778,
              "#fb9f3a"
             ],
             [
              0.8888888888888888,
              "#fdca26"
             ],
             [
              1,
              "#f0f921"
             ]
            ],
            "type": "heatmapgl"
           }
          ],
          "histogram": [
           {
            "marker": {
             "pattern": {
              "fillmode": "overlay",
              "size": 10,
              "solidity": 0.2
             }
            },
            "type": "histogram"
           }
          ],
          "histogram2d": [
           {
            "colorbar": {
             "outlinewidth": 0,
             "ticks": ""
            },
            "colorscale": [
             [
              0,
              "#0d0887"
             ],
             [
              0.1111111111111111,
              "#46039f"
             ],
             [
              0.2222222222222222,
              "#7201a8"
             ],
             [
              0.3333333333333333,
              "#9c179e"
             ],
             [
              0.4444444444444444,
              "#bd3786"
             ],
             [
              0.5555555555555556,
              "#d8576b"
             ],
             [
              0.6666666666666666,
              "#ed7953"
             ],
             [
              0.7777777777777778,
              "#fb9f3a"
             ],
             [
              0.8888888888888888,
              "#fdca26"
             ],
             [
              1,
              "#f0f921"
             ]
            ],
            "type": "histogram2d"
           }
          ],
          "histogram2dcontour": [
           {
            "colorbar": {
             "outlinewidth": 0,
             "ticks": ""
            },
            "colorscale": [
             [
              0,
              "#0d0887"
             ],
             [
              0.1111111111111111,
              "#46039f"
             ],
             [
              0.2222222222222222,
              "#7201a8"
             ],
             [
              0.3333333333333333,
              "#9c179e"
             ],
             [
              0.4444444444444444,
              "#bd3786"
             ],
             [
              0.5555555555555556,
              "#d8576b"
             ],
             [
              0.6666666666666666,
              "#ed7953"
             ],
             [
              0.7777777777777778,
              "#fb9f3a"
             ],
             [
              0.8888888888888888,
              "#fdca26"
             ],
             [
              1,
              "#f0f921"
             ]
            ],
            "type": "histogram2dcontour"
           }
          ],
          "mesh3d": [
           {
            "colorbar": {
             "outlinewidth": 0,
             "ticks": ""
            },
            "type": "mesh3d"
           }
          ],
          "parcoords": [
           {
            "line": {
             "colorbar": {
              "outlinewidth": 0,
              "ticks": ""
             }
            },
            "type": "parcoords"
           }
          ],
          "pie": [
           {
            "automargin": true,
            "type": "pie"
           }
          ],
          "scatter": [
           {
            "fillpattern": {
             "fillmode": "overlay",
             "size": 10,
             "solidity": 0.2
            },
            "type": "scatter"
           }
          ],
          "scatter3d": [
           {
            "line": {
             "colorbar": {
              "outlinewidth": 0,
              "ticks": ""
             }
            },
            "marker": {
             "colorbar": {
              "outlinewidth": 0,
              "ticks": ""
             }
            },
            "type": "scatter3d"
           }
          ],
          "scattercarpet": [
           {
            "marker": {
             "colorbar": {
              "outlinewidth": 0,
              "ticks": ""
             }
            },
            "type": "scattercarpet"
           }
          ],
          "scattergeo": [
           {
            "marker": {
             "colorbar": {
              "outlinewidth": 0,
              "ticks": ""
             }
            },
            "type": "scattergeo"
           }
          ],
          "scattergl": [
           {
            "marker": {
             "colorbar": {
              "outlinewidth": 0,
              "ticks": ""
             }
            },
            "type": "scattergl"
           }
          ],
          "scattermapbox": [
           {
            "marker": {
             "colorbar": {
              "outlinewidth": 0,
              "ticks": ""
             }
            },
            "type": "scattermapbox"
           }
          ],
          "scatterpolar": [
           {
            "marker": {
             "colorbar": {
              "outlinewidth": 0,
              "ticks": ""
             }
            },
            "type": "scatterpolar"
           }
          ],
          "scatterpolargl": [
           {
            "marker": {
             "colorbar": {
              "outlinewidth": 0,
              "ticks": ""
             }
            },
            "type": "scatterpolargl"
           }
          ],
          "scatterternary": [
           {
            "marker": {
             "colorbar": {
              "outlinewidth": 0,
              "ticks": ""
             }
            },
            "type": "scatterternary"
           }
          ],
          "surface": [
           {
            "colorbar": {
             "outlinewidth": 0,
             "ticks": ""
            },
            "colorscale": [
             [
              0,
              "#0d0887"
             ],
             [
              0.1111111111111111,
              "#46039f"
             ],
             [
              0.2222222222222222,
              "#7201a8"
             ],
             [
              0.3333333333333333,
              "#9c179e"
             ],
             [
              0.4444444444444444,
              "#bd3786"
             ],
             [
              0.5555555555555556,
              "#d8576b"
             ],
             [
              0.6666666666666666,
              "#ed7953"
             ],
             [
              0.7777777777777778,
              "#fb9f3a"
             ],
             [
              0.8888888888888888,
              "#fdca26"
             ],
             [
              1,
              "#f0f921"
             ]
            ],
            "type": "surface"
           }
          ],
          "table": [
           {
            "cells": {
             "fill": {
              "color": "#EBF0F8"
             },
             "line": {
              "color": "white"
             }
            },
            "header": {
             "fill": {
              "color": "#C8D4E3"
             },
             "line": {
              "color": "white"
             }
            },
            "type": "table"
           }
          ]
         },
         "layout": {
          "annotationdefaults": {
           "arrowcolor": "#2a3f5f",
           "arrowhead": 0,
           "arrowwidth": 1
          },
          "autotypenumbers": "strict",
          "coloraxis": {
           "colorbar": {
            "outlinewidth": 0,
            "ticks": ""
           }
          },
          "colorscale": {
           "diverging": [
            [
             0,
             "#8e0152"
            ],
            [
             0.1,
             "#c51b7d"
            ],
            [
             0.2,
             "#de77ae"
            ],
            [
             0.3,
             "#f1b6da"
            ],
            [
             0.4,
             "#fde0ef"
            ],
            [
             0.5,
             "#f7f7f7"
            ],
            [
             0.6,
             "#e6f5d0"
            ],
            [
             0.7,
             "#b8e186"
            ],
            [
             0.8,
             "#7fbc41"
            ],
            [
             0.9,
             "#4d9221"
            ],
            [
             1,
             "#276419"
            ]
           ],
           "sequential": [
            [
             0,
             "#0d0887"
            ],
            [
             0.1111111111111111,
             "#46039f"
            ],
            [
             0.2222222222222222,
             "#7201a8"
            ],
            [
             0.3333333333333333,
             "#9c179e"
            ],
            [
             0.4444444444444444,
             "#bd3786"
            ],
            [
             0.5555555555555556,
             "#d8576b"
            ],
            [
             0.6666666666666666,
             "#ed7953"
            ],
            [
             0.7777777777777778,
             "#fb9f3a"
            ],
            [
             0.8888888888888888,
             "#fdca26"
            ],
            [
             1,
             "#f0f921"
            ]
           ],
           "sequentialminus": [
            [
             0,
             "#0d0887"
            ],
            [
             0.1111111111111111,
             "#46039f"
            ],
            [
             0.2222222222222222,
             "#7201a8"
            ],
            [
             0.3333333333333333,
             "#9c179e"
            ],
            [
             0.4444444444444444,
             "#bd3786"
            ],
            [
             0.5555555555555556,
             "#d8576b"
            ],
            [
             0.6666666666666666,
             "#ed7953"
            ],
            [
             0.7777777777777778,
             "#fb9f3a"
            ],
            [
             0.8888888888888888,
             "#fdca26"
            ],
            [
             1,
             "#f0f921"
            ]
           ]
          },
          "colorway": [
           "#636efa",
           "#EF553B",
           "#00cc96",
           "#ab63fa",
           "#FFA15A",
           "#19d3f3",
           "#FF6692",
           "#B6E880",
           "#FF97FF",
           "#FECB52"
          ],
          "font": {
           "color": "#2a3f5f"
          },
          "geo": {
           "bgcolor": "white",
           "lakecolor": "white",
           "landcolor": "#E5ECF6",
           "showlakes": true,
           "showland": true,
           "subunitcolor": "white"
          },
          "hoverlabel": {
           "align": "left"
          },
          "hovermode": "closest",
          "mapbox": {
           "style": "light"
          },
          "paper_bgcolor": "white",
          "plot_bgcolor": "#E5ECF6",
          "polar": {
           "angularaxis": {
            "gridcolor": "white",
            "linecolor": "white",
            "ticks": ""
           },
           "bgcolor": "#E5ECF6",
           "radialaxis": {
            "gridcolor": "white",
            "linecolor": "white",
            "ticks": ""
           }
          },
          "scene": {
           "xaxis": {
            "backgroundcolor": "#E5ECF6",
            "gridcolor": "white",
            "gridwidth": 2,
            "linecolor": "white",
            "showbackground": true,
            "ticks": "",
            "zerolinecolor": "white"
           },
           "yaxis": {
            "backgroundcolor": "#E5ECF6",
            "gridcolor": "white",
            "gridwidth": 2,
            "linecolor": "white",
            "showbackground": true,
            "ticks": "",
            "zerolinecolor": "white"
           },
           "zaxis": {
            "backgroundcolor": "#E5ECF6",
            "gridcolor": "white",
            "gridwidth": 2,
            "linecolor": "white",
            "showbackground": true,
            "ticks": "",
            "zerolinecolor": "white"
           }
          },
          "shapedefaults": {
           "line": {
            "color": "#2a3f5f"
           }
          },
          "ternary": {
           "aaxis": {
            "gridcolor": "white",
            "linecolor": "white",
            "ticks": ""
           },
           "baxis": {
            "gridcolor": "white",
            "linecolor": "white",
            "ticks": ""
           },
           "bgcolor": "#E5ECF6",
           "caxis": {
            "gridcolor": "white",
            "linecolor": "white",
            "ticks": ""
           }
          },
          "title": {
           "x": 0.05
          },
          "xaxis": {
           "automargin": true,
           "gridcolor": "white",
           "linecolor": "white",
           "ticks": "",
           "title": {
            "standoff": 15
           },
           "zerolinecolor": "white",
           "zerolinewidth": 2
          },
          "yaxis": {
           "automargin": true,
           "gridcolor": "white",
           "linecolor": "white",
           "ticks": "",
           "title": {
            "standoff": 15
           },
           "zerolinecolor": "white",
           "zerolinewidth": 2
          }
         }
        },
        "title": {
         "text": "Distribution of Unique Shared Ingredients"
        },
        "xaxis": {
         "anchor": "y",
         "domain": [
          0,
          1
         ],
         "title": {
          "text": "Number of Unique Shared Ingredients"
         }
        },
        "yaxis": {
         "anchor": "x",
         "domain": [
          0,
          1
         ],
         "title": {
          "text": "count"
         }
        }
       }
      },
      "text/html": [
       "<div>                            <div id=\"d001cad5-4dd6-4488-a06c-166c870cb890\" class=\"plotly-graph-div\" style=\"height:525px; width:100%;\"></div>            <script type=\"text/javascript\">                require([\"plotly\"], function(Plotly) {                    window.PLOTLYENV=window.PLOTLYENV || {};                                    if (document.getElementById(\"d001cad5-4dd6-4488-a06c-166c870cb890\")) {                    Plotly.newPlot(                        \"d001cad5-4dd6-4488-a06c-166c870cb890\",                        [{\"alignmentgroup\":\"True\",\"bingroup\":\"x\",\"hovertemplate\":\"Number of Unique Shared Ingredients=%{x}<br>count=%{y}<extra></extra>\",\"legendgroup\":\"\",\"marker\":{\"color\":\"#636EFA\",\"pattern\":{\"shape\":\"\"}},\"name\":\"\",\"nbinsx\":30,\"offsetgroup\":\"\",\"orientation\":\"v\",\"showlegend\":false,\"x\":[4,7,0,3,4,1,0,5,1,1,1,1,0,3,4,7,0,3,4,1,0,5,1,1,1,1,0,3,4,7,0,3,4,1,0,5,1,1,1,1,0,3],\"xaxis\":\"x\",\"yaxis\":\"y\",\"type\":\"histogram\"}],                        {\"template\":{\"data\":{\"histogram2dcontour\":[{\"type\":\"histogram2dcontour\",\"colorbar\":{\"outlinewidth\":0,\"ticks\":\"\"},\"colorscale\":[[0.0,\"#0d0887\"],[0.1111111111111111,\"#46039f\"],[0.2222222222222222,\"#7201a8\"],[0.3333333333333333,\"#9c179e\"],[0.4444444444444444,\"#bd3786\"],[0.5555555555555556,\"#d8576b\"],[0.6666666666666666,\"#ed7953\"],[0.7777777777777778,\"#fb9f3a\"],[0.8888888888888888,\"#fdca26\"],[1.0,\"#f0f921\"]]}],\"choropleth\":[{\"type\":\"choropleth\",\"colorbar\":{\"outlinewidth\":0,\"ticks\":\"\"}}],\"histogram2d\":[{\"type\":\"histogram2d\",\"colorbar\":{\"outlinewidth\":0,\"ticks\":\"\"},\"colorscale\":[[0.0,\"#0d0887\"],[0.1111111111111111,\"#46039f\"],[0.2222222222222222,\"#7201a8\"],[0.3333333333333333,\"#9c179e\"],[0.4444444444444444,\"#bd3786\"],[0.5555555555555556,\"#d8576b\"],[0.6666666666666666,\"#ed7953\"],[0.7777777777777778,\"#fb9f3a\"],[0.8888888888888888,\"#fdca26\"],[1.0,\"#f0f921\"]]}],\"heatmap\":[{\"type\":\"heatmap\",\"colorbar\":{\"outlinewidth\":0,\"ticks\":\"\"},\"colorscale\":[[0.0,\"#0d0887\"],[0.1111111111111111,\"#46039f\"],[0.2222222222222222,\"#7201a8\"],[0.3333333333333333,\"#9c179e\"],[0.4444444444444444,\"#bd3786\"],[0.5555555555555556,\"#d8576b\"],[0.6666666666666666,\"#ed7953\"],[0.7777777777777778,\"#fb9f3a\"],[0.8888888888888888,\"#fdca26\"],[1.0,\"#f0f921\"]]}],\"heatmapgl\":[{\"type\":\"heatmapgl\",\"colorbar\":{\"outlinewidth\":0,\"ticks\":\"\"},\"colorscale\":[[0.0,\"#0d0887\"],[0.1111111111111111,\"#46039f\"],[0.2222222222222222,\"#7201a8\"],[0.3333333333333333,\"#9c179e\"],[0.4444444444444444,\"#bd3786\"],[0.5555555555555556,\"#d8576b\"],[0.6666666666666666,\"#ed7953\"],[0.7777777777777778,\"#fb9f3a\"],[0.8888888888888888,\"#fdca26\"],[1.0,\"#f0f921\"]]}],\"contourcarpet\":[{\"type\":\"contourcarpet\",\"colorbar\":{\"outlinewidth\":0,\"ticks\":\"\"}}],\"contour\":[{\"type\":\"contour\",\"colorbar\":{\"outlinewidth\":0,\"ticks\":\"\"},\"colorscale\":[[0.0,\"#0d0887\"],[0.1111111111111111,\"#46039f\"],[0.2222222222222222,\"#7201a8\"],[0.3333333333333333,\"#9c179e\"],[0.4444444444444444,\"#bd3786\"],[0.5555555555555556,\"#d8576b\"],[0.6666666666666666,\"#ed7953\"],[0.7777777777777778,\"#fb9f3a\"],[0.8888888888888888,\"#fdca26\"],[1.0,\"#f0f921\"]]}],\"surface\":[{\"type\":\"surface\",\"colorbar\":{\"outlinewidth\":0,\"ticks\":\"\"},\"colorscale\":[[0.0,\"#0d0887\"],[0.1111111111111111,\"#46039f\"],[0.2222222222222222,\"#7201a8\"],[0.3333333333333333,\"#9c179e\"],[0.4444444444444444,\"#bd3786\"],[0.5555555555555556,\"#d8576b\"],[0.6666666666666666,\"#ed7953\"],[0.7777777777777778,\"#fb9f3a\"],[0.8888888888888888,\"#fdca26\"],[1.0,\"#f0f921\"]]}],\"mesh3d\":[{\"type\":\"mesh3d\",\"colorbar\":{\"outlinewidth\":0,\"ticks\":\"\"}}],\"scatter\":[{\"fillpattern\":{\"fillmode\":\"overlay\",\"size\":10,\"solidity\":0.2},\"type\":\"scatter\"}],\"parcoords\":[{\"type\":\"parcoords\",\"line\":{\"colorbar\":{\"outlinewidth\":0,\"ticks\":\"\"}}}],\"scatterpolargl\":[{\"type\":\"scatterpolargl\",\"marker\":{\"colorbar\":{\"outlinewidth\":0,\"ticks\":\"\"}}}],\"bar\":[{\"error_x\":{\"color\":\"#2a3f5f\"},\"error_y\":{\"color\":\"#2a3f5f\"},\"marker\":{\"line\":{\"color\":\"#E5ECF6\",\"width\":0.5},\"pattern\":{\"fillmode\":\"overlay\",\"size\":10,\"solidity\":0.2}},\"type\":\"bar\"}],\"scattergeo\":[{\"type\":\"scattergeo\",\"marker\":{\"colorbar\":{\"outlinewidth\":0,\"ticks\":\"\"}}}],\"scatterpolar\":[{\"type\":\"scatterpolar\",\"marker\":{\"colorbar\":{\"outlinewidth\":0,\"ticks\":\"\"}}}],\"histogram\":[{\"marker\":{\"pattern\":{\"fillmode\":\"overlay\",\"size\":10,\"solidity\":0.2}},\"type\":\"histogram\"}],\"scattergl\":[{\"type\":\"scattergl\",\"marker\":{\"colorbar\":{\"outlinewidth\":0,\"ticks\":\"\"}}}],\"scatter3d\":[{\"type\":\"scatter3d\",\"line\":{\"colorbar\":{\"outlinewidth\":0,\"ticks\":\"\"}},\"marker\":{\"colorbar\":{\"outlinewidth\":0,\"ticks\":\"\"}}}],\"scattermapbox\":[{\"type\":\"scattermapbox\",\"marker\":{\"colorbar\":{\"outlinewidth\":0,\"ticks\":\"\"}}}],\"scatterternary\":[{\"type\":\"scatterternary\",\"marker\":{\"colorbar\":{\"outlinewidth\":0,\"ticks\":\"\"}}}],\"scattercarpet\":[{\"type\":\"scattercarpet\",\"marker\":{\"colorbar\":{\"outlinewidth\":0,\"ticks\":\"\"}}}],\"carpet\":[{\"aaxis\":{\"endlinecolor\":\"#2a3f5f\",\"gridcolor\":\"white\",\"linecolor\":\"white\",\"minorgridcolor\":\"white\",\"startlinecolor\":\"#2a3f5f\"},\"baxis\":{\"endlinecolor\":\"#2a3f5f\",\"gridcolor\":\"white\",\"linecolor\":\"white\",\"minorgridcolor\":\"white\",\"startlinecolor\":\"#2a3f5f\"},\"type\":\"carpet\"}],\"table\":[{\"cells\":{\"fill\":{\"color\":\"#EBF0F8\"},\"line\":{\"color\":\"white\"}},\"header\":{\"fill\":{\"color\":\"#C8D4E3\"},\"line\":{\"color\":\"white\"}},\"type\":\"table\"}],\"barpolar\":[{\"marker\":{\"line\":{\"color\":\"#E5ECF6\",\"width\":0.5},\"pattern\":{\"fillmode\":\"overlay\",\"size\":10,\"solidity\":0.2}},\"type\":\"barpolar\"}],\"pie\":[{\"automargin\":true,\"type\":\"pie\"}]},\"layout\":{\"autotypenumbers\":\"strict\",\"colorway\":[\"#636efa\",\"#EF553B\",\"#00cc96\",\"#ab63fa\",\"#FFA15A\",\"#19d3f3\",\"#FF6692\",\"#B6E880\",\"#FF97FF\",\"#FECB52\"],\"font\":{\"color\":\"#2a3f5f\"},\"hovermode\":\"closest\",\"hoverlabel\":{\"align\":\"left\"},\"paper_bgcolor\":\"white\",\"plot_bgcolor\":\"#E5ECF6\",\"polar\":{\"bgcolor\":\"#E5ECF6\",\"angularaxis\":{\"gridcolor\":\"white\",\"linecolor\":\"white\",\"ticks\":\"\"},\"radialaxis\":{\"gridcolor\":\"white\",\"linecolor\":\"white\",\"ticks\":\"\"}},\"ternary\":{\"bgcolor\":\"#E5ECF6\",\"aaxis\":{\"gridcolor\":\"white\",\"linecolor\":\"white\",\"ticks\":\"\"},\"baxis\":{\"gridcolor\":\"white\",\"linecolor\":\"white\",\"ticks\":\"\"},\"caxis\":{\"gridcolor\":\"white\",\"linecolor\":\"white\",\"ticks\":\"\"}},\"coloraxis\":{\"colorbar\":{\"outlinewidth\":0,\"ticks\":\"\"}},\"colorscale\":{\"sequential\":[[0.0,\"#0d0887\"],[0.1111111111111111,\"#46039f\"],[0.2222222222222222,\"#7201a8\"],[0.3333333333333333,\"#9c179e\"],[0.4444444444444444,\"#bd3786\"],[0.5555555555555556,\"#d8576b\"],[0.6666666666666666,\"#ed7953\"],[0.7777777777777778,\"#fb9f3a\"],[0.8888888888888888,\"#fdca26\"],[1.0,\"#f0f921\"]],\"sequentialminus\":[[0.0,\"#0d0887\"],[0.1111111111111111,\"#46039f\"],[0.2222222222222222,\"#7201a8\"],[0.3333333333333333,\"#9c179e\"],[0.4444444444444444,\"#bd3786\"],[0.5555555555555556,\"#d8576b\"],[0.6666666666666666,\"#ed7953\"],[0.7777777777777778,\"#fb9f3a\"],[0.8888888888888888,\"#fdca26\"],[1.0,\"#f0f921\"]],\"diverging\":[[0,\"#8e0152\"],[0.1,\"#c51b7d\"],[0.2,\"#de77ae\"],[0.3,\"#f1b6da\"],[0.4,\"#fde0ef\"],[0.5,\"#f7f7f7\"],[0.6,\"#e6f5d0\"],[0.7,\"#b8e186\"],[0.8,\"#7fbc41\"],[0.9,\"#4d9221\"],[1,\"#276419\"]]},\"xaxis\":{\"gridcolor\":\"white\",\"linecolor\":\"white\",\"ticks\":\"\",\"title\":{\"standoff\":15},\"zerolinecolor\":\"white\",\"automargin\":true,\"zerolinewidth\":2},\"yaxis\":{\"gridcolor\":\"white\",\"linecolor\":\"white\",\"ticks\":\"\",\"title\":{\"standoff\":15},\"zerolinecolor\":\"white\",\"automargin\":true,\"zerolinewidth\":2},\"scene\":{\"xaxis\":{\"backgroundcolor\":\"#E5ECF6\",\"gridcolor\":\"white\",\"linecolor\":\"white\",\"showbackground\":true,\"ticks\":\"\",\"zerolinecolor\":\"white\",\"gridwidth\":2},\"yaxis\":{\"backgroundcolor\":\"#E5ECF6\",\"gridcolor\":\"white\",\"linecolor\":\"white\",\"showbackground\":true,\"ticks\":\"\",\"zerolinecolor\":\"white\",\"gridwidth\":2},\"zaxis\":{\"backgroundcolor\":\"#E5ECF6\",\"gridcolor\":\"white\",\"linecolor\":\"white\",\"showbackground\":true,\"ticks\":\"\",\"zerolinecolor\":\"white\",\"gridwidth\":2}},\"shapedefaults\":{\"line\":{\"color\":\"#2a3f5f\"}},\"annotationdefaults\":{\"arrowcolor\":\"#2a3f5f\",\"arrowhead\":0,\"arrowwidth\":1},\"geo\":{\"bgcolor\":\"white\",\"landcolor\":\"#E5ECF6\",\"subunitcolor\":\"white\",\"showland\":true,\"showlakes\":true,\"lakecolor\":\"white\"},\"title\":{\"x\":0.05},\"mapbox\":{\"style\":\"light\"}}},\"xaxis\":{\"anchor\":\"y\",\"domain\":[0.0,1.0],\"title\":{\"text\":\"Number of Unique Shared Ingredients\"}},\"yaxis\":{\"anchor\":\"x\",\"domain\":[0.0,1.0],\"title\":{\"text\":\"count\"}},\"legend\":{\"tracegroupgap\":0},\"title\":{\"text\":\"Distribution of Unique Shared Ingredients\"},\"barmode\":\"relative\",\"bargap\":0.2},                        {\"responsive\": true}                    ).then(function(){\n",
       "                            \n",
       "var gd = document.getElementById('d001cad5-4dd6-4488-a06c-166c870cb890');\n",
       "var x = new MutationObserver(function (mutations, observer) {{\n",
       "        var display = window.getComputedStyle(gd).display;\n",
       "        if (!display || display === 'none') {{\n",
       "            console.log([gd, 'removed!']);\n",
       "            Plotly.purge(gd);\n",
       "            observer.disconnect();\n",
       "        }}\n",
       "}});\n",
       "\n",
       "// Listen for the removal of the full notebook cells\n",
       "var notebookContainer = gd.closest('#notebook-container');\n",
       "if (notebookContainer) {{\n",
       "    x.observe(notebookContainer, {childList: true});\n",
       "}}\n",
       "\n",
       "// Listen for the clearing of the current output cell\n",
       "var outputEl = gd.closest('.output');\n",
       "if (outputEl) {{\n",
       "    x.observe(outputEl, {childList: true});\n",
       "}}\n",
       "\n",
       "                        })                };                });            </script>        </div>"
      ]
     },
     "metadata": {},
     "output_type": "display_data"
    }
   ],
   "source": [
    "import plotly.express as px\n",
    "\n",
    "fig = px.histogram(\n",
    "    df,\n",
    "    x=\"Num_Unique_Shared_Ingredients\",\n",
    "    nbins=30,\n",
    "    title=\"Distribution of Unique Shared Ingredients\",\n",
    "    labels={\"Num_Unique_Shared_Ingredients\": \"Number of Unique Shared Ingredients\"},\n",
    "    color_discrete_sequence=[\"#636EFA\"]\n",
    ")\n",
    "\n",
    "fig.update_layout(bargap=0.2)\n",
    "fig.show()\n"
   ]
  },
  {
   "cell_type": "markdown",
   "id": "c39b1d6f",
   "metadata": {},
   "source": [
    "### Summary:\n",
    "- This code groups products by their unique shared ingredients and creates a summary table.\n",
    "- It combines all product names that share the same ingredients.\n",
    "- It removes duplicates and sorts product names alphabetically.\n",
    "- It assigns each group a label (A, B, C, ...) for easier reference.\n",
    "- The final output is a clean, readable DataFrame with:\n",
    "Group | Shared Ingredients | Product Names\n"
   ]
  },
  {
   "cell_type": "code",
   "execution_count": 79,
   "id": "e913216f",
   "metadata": {},
   "outputs": [],
   "source": [
    "import string\n",
    "\n",
    "# Group by unique Shared_Ingredients\n",
    "grouped_df = df.groupby(\"Shared_Ingredients\")[\"Products_With_Same_Ingredients\"].apply(lambda x: \", \".join(sorted(set(\", \".join(x).split(\", \"))))).reset_index()\n",
    "\n",
    "# Assign Group Labels: A, B, C...\n",
    "grouped_df.insert(0, \"Group\", list(string.ascii_uppercase[:len(grouped_df)]))\n",
    "\n",
    "# Rename columns to match desired output\n",
    "grouped_df.columns = [\"Group\", \"Shared Ingredients\", \"Product Names\"]\n",
    "\n",
    "# Sort alphabetically by Shared Ingredients\n",
    "grouped_df = grouped_df.sort_values(\"Shared Ingredients\").reset_index(drop=True)\n"
   ]
  },
  {
   "cell_type": "code",
   "execution_count": 80,
   "id": "8b61cb44",
   "metadata": {},
   "outputs": [
    {
     "data": {
      "text/html": [
       "<div>\n",
       "<style scoped>\n",
       "    .dataframe tbody tr th:only-of-type {\n",
       "        vertical-align: middle;\n",
       "    }\n",
       "\n",
       "    .dataframe tbody tr th {\n",
       "        vertical-align: top;\n",
       "    }\n",
       "\n",
       "    .dataframe thead th {\n",
       "        text-align: right;\n",
       "    }\n",
       "</style>\n",
       "<table border=\"1\" class=\"dataframe\">\n",
       "  <thead>\n",
       "    <tr style=\"text-align: right;\">\n",
       "      <th></th>\n",
       "      <th>Group</th>\n",
       "      <th>Shared Ingredients</th>\n",
       "      <th>Product Names</th>\n",
       "    </tr>\n",
       "  </thead>\n",
       "  <tbody>\n",
       "    <tr>\n",
       "      <th>0</th>\n",
       "      <td>A</td>\n",
       "      <td></td>\n",
       "      <td></td>\n",
       "    </tr>\n",
       "    <tr>\n",
       "      <th>1</th>\n",
       "      <td>B</td>\n",
       "      <td>aqua, ceramides, fragrance, glycerin, niacinam...</td>\n",
       "      <td>ANUA Heartleaf Quercetinol Pore Deep Cleansing...</td>\n",
       "    </tr>\n",
       "    <tr>\n",
       "      <th>2</th>\n",
       "      <td>C</td>\n",
       "      <td>aqua, glycerin, petrolatum</td>\n",
       "      <td>ANUA Heartleaf Quercetinol Pore Deep Cleansing...</td>\n",
       "    </tr>\n",
       "    <tr>\n",
       "      <th>3</th>\n",
       "      <td>D</td>\n",
       "      <td>avocado oil, coconut oil, fragrance, shea butter</td>\n",
       "      <td>CeraVe PM Facial Moisturizing Lotion, Dove Bar...</td>\n",
       "    </tr>\n",
       "    <tr>\n",
       "      <th>4</th>\n",
       "      <td>E</td>\n",
       "      <td>bha, glycerin, hyaluronic acid</td>\n",
       "      <td>ANUA Heartleaf Quercetinol Pore Deep Cleansing...</td>\n",
       "    </tr>\n",
       "    <tr>\n",
       "      <th>5</th>\n",
       "      <td>F</td>\n",
       "      <td>ceramides, fragrance, hyaluronic acid, niacina...</td>\n",
       "      <td>ANUA Heartleaf Quercetinol Pore Deep Cleansing...</td>\n",
       "    </tr>\n",
       "    <tr>\n",
       "      <th>6</th>\n",
       "      <td>G</td>\n",
       "      <td>ceramides, fragrance, hyaluronic acid, niacina...</td>\n",
       "      <td>ANUA Heartleaf Quercetinol Pore Deep Cleansing...</td>\n",
       "    </tr>\n",
       "    <tr>\n",
       "      <th>7</th>\n",
       "      <td>H</td>\n",
       "      <td>fragrance</td>\n",
       "      <td>CeraVe PM Facial Moisturizing Lotion, Dove Bar...</td>\n",
       "    </tr>\n",
       "    <tr>\n",
       "      <th>8</th>\n",
       "      <td>I</td>\n",
       "      <td>niacinamide</td>\n",
       "      <td>CeraVe PM Facial Moisturizing Lotion, Grace &amp; ...</td>\n",
       "    </tr>\n",
       "    <tr>\n",
       "      <th>9</th>\n",
       "      <td>J</td>\n",
       "      <td>retinol</td>\n",
       "      <td>Glass Skin Starter Set</td>\n",
       "    </tr>\n",
       "    <tr>\n",
       "      <th>10</th>\n",
       "      <td>K</td>\n",
       "      <td>vitamin e</td>\n",
       "      <td>Sun Bum Original SPF 50 Sunscreen Body Spray -...</td>\n",
       "    </tr>\n",
       "  </tbody>\n",
       "</table>\n",
       "</div>"
      ],
      "text/plain": [
       "   Group                                 Shared Ingredients  \\\n",
       "0      A                                                      \n",
       "1      B  aqua, ceramides, fragrance, glycerin, niacinam...   \n",
       "2      C                         aqua, glycerin, petrolatum   \n",
       "3      D   avocado oil, coconut oil, fragrance, shea butter   \n",
       "4      E                     bha, glycerin, hyaluronic acid   \n",
       "5      F  ceramides, fragrance, hyaluronic acid, niacina...   \n",
       "6      G  ceramides, fragrance, hyaluronic acid, niacina...   \n",
       "7      H                                          fragrance   \n",
       "8      I                                        niacinamide   \n",
       "9      J                                            retinol   \n",
       "10     K                                          vitamin e   \n",
       "\n",
       "                                        Product Names  \n",
       "0                                                      \n",
       "1   ANUA Heartleaf Quercetinol Pore Deep Cleansing...  \n",
       "2   ANUA Heartleaf Quercetinol Pore Deep Cleansing...  \n",
       "3   CeraVe PM Facial Moisturizing Lotion, Dove Bar...  \n",
       "4   ANUA Heartleaf Quercetinol Pore Deep Cleansing...  \n",
       "5   ANUA Heartleaf Quercetinol Pore Deep Cleansing...  \n",
       "6   ANUA Heartleaf Quercetinol Pore Deep Cleansing...  \n",
       "7   CeraVe PM Facial Moisturizing Lotion, Dove Bar...  \n",
       "8   CeraVe PM Facial Moisturizing Lotion, Grace & ...  \n",
       "9                              Glass Skin Starter Set  \n",
       "10  Sun Bum Original SPF 50 Sunscreen Body Spray -...  "
      ]
     },
     "execution_count": 80,
     "metadata": {},
     "output_type": "execute_result"
    }
   ],
   "source": [
    "grouped_df.to_csv(\"Grouped Ingredients.csv\")\n",
    "grouped_df"
   ]
  },
  {
   "cell_type": "code",
   "execution_count": null,
   "id": "b2e2145b",
   "metadata": {},
   "outputs": [],
   "source": []
  }
 ],
 "metadata": {
  "kernelspec": {
   "display_name": "Python 3 (ipykernel)",
   "language": "python",
   "name": "python3"
  },
  "language_info": {
   "codemirror_mode": {
    "name": "ipython",
    "version": 3
   },
   "file_extension": ".py",
   "mimetype": "text/x-python",
   "name": "python",
   "nbconvert_exporter": "python",
   "pygments_lexer": "ipython3",
   "version": "3.11.5"
  }
 },
 "nbformat": 4,
 "nbformat_minor": 5
}
